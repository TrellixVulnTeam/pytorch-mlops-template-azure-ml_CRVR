{
 "cells": [
  {
   "cell_type": "markdown",
   "metadata": {},
   "source": [
    "# TABLE OF CONTENTS:\n",
    "---\n",
    "* [Conda Environments](#Conda-Environments)\n",
    "    * [Environment Artifacts](#Environment-Artifacts)\n",
    "    * [Development Environment Setup](#Development-Environment-Setup)\n",
    "    * [Environment Registration](#Environment-Registration)\n",
    "---"
   ]
  },
  {
   "cell_type": "markdown",
   "metadata": {},
   "source": [
    "This notebook should be run from the azureml_py36 kernel in the Azure Machine Learning (AML) Compute Instance or from any other kernel that has the azureml.core library installed so that the new environment can be saved to the workspace using the AML Python SDK. Subsequent notebooks should then be run from the newly created kernel."
   ]
  },
  {
   "cell_type": "code",
   "execution_count": 1,
   "metadata": {},
   "outputs": [],
   "source": [
    "import os\n",
    "\n",
    "from azureml.core import Environment, Workspace"
   ]
  },
  {
   "cell_type": "markdown",
   "metadata": {},
   "source": [
    "# Conda Environments"
   ]
  },
  {
   "cell_type": "markdown",
   "metadata": {},
   "source": [
    "### Environment Artifacts"
   ]
  },
  {
   "cell_type": "markdown",
   "metadata": {},
   "source": [
    "Environment-related artifacts will sit in their own parent directory called **\"environments\"**. Conda .yml files will have an own directory within the environments directory called **\"conda\"**. These directories are created in the following cells."
   ]
  },
  {
   "cell_type": "code",
   "execution_count": 2,
   "metadata": {},
   "outputs": [
    {
     "name": "stdout",
     "output_type": "stream",
     "text": [
      "Environment directory /mnt/batch/tasks/shared/LS_root/mounts/clusters/amlbrikseci/code/Users/BRIKSE/pytorch-use-cases-azure-ml/template_project/notebooks/../environments has been created.\n"
     ]
    }
   ],
   "source": [
    "environment_dir = os.path.join(os.getcwd(), \"../environments\")\n",
    "os.makedirs(environment_dir, exist_ok=True)\n",
    "print(f\"Environment directory {environment_dir} has been created.\")"
   ]
  },
  {
   "cell_type": "code",
   "execution_count": 3,
   "metadata": {},
   "outputs": [
    {
     "name": "stdout",
     "output_type": "stream",
     "text": [
      "Conda directory /mnt/batch/tasks/shared/LS_root/mounts/clusters/amlbrikseci/code/Users/BRIKSE/pytorch-use-cases-azure-ml/template_project/notebooks/../environments/conda has been created.\n"
     ]
    }
   ],
   "source": [
    "conda_dir = os.path.join(os.getcwd(), \"../environments/conda\")\n",
    "os.makedirs(conda_dir, exist_ok=True)\n",
    "print(f\"Conda directory {conda_dir} has been created.\")"
   ]
  },
  {
   "cell_type": "markdown",
   "metadata": {},
   "source": [
    "Create an **environment.yml** file which contains all packages needed for a conda environment for development, training and deployment to ensure reproducibility and easy collaboration with other team members. This .yml file will be used to build an AML environment as well as a local development environment and jupyter kernel for your notebook experience. If the different stages (development, training and deployment) vary greatly, a separate conda environment file for each stage can be created. In that case they should be prefixed with their respective stage, e.g. **training_environment.yml**. If any dependencies are added throughout the model development phase they should be added to this .yml file and the conda environment and kernel should be rebuilt. Packages should not be installed using \"pip install\" or \"conda install\" to ensure reproducibility is maintained.\n",
    "\n",
    "In general try to use conda with the default channels as a priority means to install Python packages. If conda tells you the package you want doesn't exist, then use pip (or try conda-forge and other well-known channels, which have more packages available than the default conda channel). Conda makes sure that the dependencies of all packages are fulfilled simultaneously, the lack of which often leads to broken environments when using pip."
   ]
  },
  {
   "cell_type": "code",
   "execution_count": null,
   "metadata": {},
   "outputs": [],
   "source": [
    "%%writefile ../environments/conda/environment.yml\n",
    "name: pytorch-aml-env\n",
    "dependencies:\n",
    "- ipykernel=5.3.4\n",
    "- python=3.7.1\n",
    "- pytorch::pytorch=1.7.0\n",
    "- pytorch::torchvision=0.8.1\n",
    "- pip:\n",
    "    - azureml-defaults\n",
    "    - azureml-sdk\n",
    "    - azureml-widgets\n",
    "    - python-dotenv==0.15.0\n",
    "channels:\n",
    "- pytorch"
   ]
  },
  {
   "cell_type": "markdown",
   "metadata": {},
   "source": [
    "If for any reasons you want to install packages just in your local development environment and not add them to the .yml file, then you should **not use \"pip install\" or \"conda install\"** either. This will not ensure that the packages are installed in the conda environment of the kernel that you are currently running. Instead use the syntax from the following cells to make certain that the packages are installed in the conda environment of your currently running kernel. Only do this for testing of packages and do not forget to add packages you want to keep to the .yml file eventually."
   ]
  },
  {
   "cell_type": "code",
   "execution_count": null,
   "metadata": {},
   "outputs": [],
   "source": [
    "# Do this for pip packages\n",
    "import sys\n",
    "!{sys.executable} -m pip install matplotlib"
   ]
  },
  {
   "cell_type": "code",
   "execution_count": null,
   "metadata": {},
   "outputs": [],
   "source": [
    "# Do this for conda packages\n",
    "import sys\n",
    "!conda install --yes --prefix {sys.prefix} matplotlib"
   ]
  },
  {
   "cell_type": "markdown",
   "metadata": {},
   "source": [
    "### Development Environment Setup"
   ]
  },
  {
   "cell_type": "markdown",
   "metadata": {},
   "source": [
    "In order to create a local conda environment and jupyter kernel to develop with, execute the following steps in the terminal from the project root directory."
   ]
  },
  {
   "cell_type": "markdown",
   "metadata": {},
   "source": [
    "`conda env create -f environments/conda/environment.yml`\n",
    "\n",
    "`conda activate pytorch-aml-env`\n",
    "\n",
    "`python -m ipykernel install --user --name=pytorch-aml-env`"
   ]
  },
  {
   "cell_type": "markdown",
   "metadata": {},
   "source": [
    "The environment will then be available as a kernel in JupyterLab or Jupyter:\n",
    "\n",
    "<img src=\"../docs/images/kernel_selection.png\" alt=\"kernel_selection\" width=\"400\"/>"
   ]
  },
  {
   "cell_type": "markdown",
   "metadata": {},
   "source": [
    "In order to list the available environments, the following command can be used:"
   ]
  },
  {
   "cell_type": "markdown",
   "metadata": {},
   "source": [
    "`conda env list`"
   ]
  },
  {
   "cell_type": "markdown",
   "metadata": {},
   "source": [
    "In order to remove an environment and the corresponding jupyter kernel, the following commands can be used."
   ]
  },
  {
   "cell_type": "markdown",
   "metadata": {},
   "source": [
    "`conda env remove -n pytorch-aml-env`\n",
    "\n",
    "`jupyter kernelspec remove pytorch-aml-env`"
   ]
  },
  {
   "cell_type": "markdown",
   "metadata": {},
   "source": [
    "### Environment Registration"
   ]
  },
  {
   "cell_type": "markdown",
   "metadata": {},
   "source": [
    "The environment is saved to the workspace from where it can be retrieved from another compute by another data scientist or for other purposes along the ml lifecycle (e.g. model training or model deployment)."
   ]
  },
  {
   "cell_type": "code",
   "execution_count": null,
   "metadata": {},
   "outputs": [],
   "source": [
    "# Connect to the AML workspace (for alternative connection options see the aml_snippets notebook)\n",
    "ws = Workspace.from_config() \n",
    "\n",
    "# Create an environment from conda environment.yml file\n",
    "env = Environment.from_conda_specification(name=\"pytorch-aml-env\",\n",
    "                                           file_path=\"../environments/conda/environment.yml\")\n",
    "\n",
    "# Register the environment\n",
    "env.register(workspace=ws)"
   ]
  }
 ],
 "metadata": {
  "kernelspec": {
   "display_name": "Python 3.6 - AzureML",
   "language": "python",
   "name": "python3-azureml"
  },
  "language_info": {
   "codemirror_mode": {
    "name": "ipython",
    "version": 3
   },
   "file_extension": ".py",
   "mimetype": "text/x-python",
   "name": "python",
   "nbconvert_exporter": "python",
   "pygments_lexer": "ipython3",
   "version": "3.6.9"
  }
 },
 "nbformat": 4,
 "nbformat_minor": 4
}
