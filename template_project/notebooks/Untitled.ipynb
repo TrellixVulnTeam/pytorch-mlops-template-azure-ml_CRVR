{
 "cells": [
  {
   "cell_type": "code",
   "execution_count": 1,
   "metadata": {},
   "outputs": [],
   "source": [
    "from os import path, makedirs\n",
    "experiment_name = 'tensorboard-demo'\n",
    "\n",
    "# experiment folder\n",
    "exp_dir = './sample_projects/' + experiment_name\n",
    "\n",
    "if not path.exists(exp_dir):\n",
    "    makedirs(exp_dir)"
   ]
  },
  {
   "cell_type": "code",
   "execution_count": 2,
   "metadata": {},
   "outputs": [],
   "source": [
    "import requests\n",
    "import os\n",
    "\n",
    "tf_code = requests.get(\"https://raw.githubusercontent.com/tensorflow/tensorflow/r1.8/tensorflow/examples/tutorials/mnist/mnist_with_summaries.py\")\n",
    "with open(os.path.join(exp_dir, \"mnist_with_summaries.py\"), \"w\") as file:\n",
    "    file.write(tf_code.text)"
   ]
  },
  {
   "cell_type": "code",
   "execution_count": 3,
   "metadata": {},
   "outputs": [],
   "source": [
    "import azureml.core\n",
    "from azureml.core import Workspace\n",
    "from azureml.core import Experiment\n",
    "\n",
    "ws = Workspace.from_config()\n",
    "\n",
    "# create directories for experiment logs and dataset\n",
    "logs_dir = os.path.join(os.curdir, \"logs\")\n",
    "data_dir = os.path.abspath(os.path.join(os.curdir, \"mnist_data\"))\n",
    "\n",
    "if not path.exists(data_dir):\n",
    "    makedirs(data_dir)\n",
    "\n",
    "os.environ[\"TEST_TMPDIR\"] = data_dir\n",
    "\n",
    "# Writing logs to ./logs results in their being uploaded to the run history,\n",
    "# and thus, made accessible to our TensorBoard instance.\n",
    "args = [\"--log_dir\", logs_dir]\n",
    "\n",
    "# Create an experiment\n",
    "exp = Experiment(ws, experiment_name)"
   ]
  },
  {
   "cell_type": "code",
   "execution_count": 4,
   "metadata": {},
   "outputs": [
    {
     "name": "stdout",
     "output_type": "stream",
     "text": [
      "Found existing compute target.\n",
      "Succeeded\n",
      "AmlCompute wait for completion finished\n",
      "\n",
      "Minimum number of nodes requested have been provisioned\n"
     ]
    }
   ],
   "source": [
    "from azureml.core.compute import ComputeTarget, AmlCompute\n",
    "\n",
    "cluster_name = \"cpu-cluster\"\n",
    "\n",
    "cts = ws.compute_targets\n",
    "found = False\n",
    "if cluster_name in cts and cts[cluster_name].type == 'AmlCompute':\n",
    "   found = True\n",
    "   print('Found existing compute target.')\n",
    "   compute_target = cts[cluster_name]\n",
    "if not found:\n",
    "    print('Creating a new compute target...')\n",
    "    compute_config = AmlCompute.provisioning_configuration(vm_size='STANDARD_D2_V2', \n",
    "                                                           max_nodes=4)\n",
    "\n",
    "    # create the cluster\n",
    "    compute_target = ComputeTarget.create(ws, cluster_name, compute_config)\n",
    "\n",
    "compute_target.wait_for_completion(show_output=True, min_node_count=None)\n",
    "\n",
    "# use get_status() to get a detailed status for the current cluster. \n",
    "# print(compute_target.get_status().serialize())"
   ]
  },
  {
   "cell_type": "code",
   "execution_count": 8,
   "metadata": {},
   "outputs": [],
   "source": [
    "from azureml.core import ScriptRunConfig\n",
    "from azureml.core import Environment\n",
    "\n",
    "# Here we will use the TensorFlow 2.2 curated environment\n",
    "tf_env = Environment.get(ws, 'AzureML-TensorFlow-2.2-GPU')\n",
    "\n",
    "src = ScriptRunConfig(source_directory=exp_dir,\n",
    "                      script='mnist_with_summaries.py',\n",
    "                      arguments=args,\n",
    "                      compute_target=compute_target,\n",
    "                      environment=tf_env)\n",
    "run = exp.submit(src)"
   ]
  },
  {
   "cell_type": "code",
   "execution_count": 9,
   "metadata": {},
   "outputs": [
    {
     "ename": "ActivityFailedException",
     "evalue": "ActivityFailedException:\n\tMessage: Activity Failed:\n{\n    \"error\": {\n        \"code\": \"UserError\",\n        \"message\": \"AzureMLCompute job failed.\\nInitializationError: Failed to create Batch AI directory.\\n\\tReason: Failed to create Job Directory /mnt/batch/tasks/shared/LS_root/jobs/amlbriksews/azureml/tensorboard-demo_1610980377_d6f7af6f/mounts/workspaceblobstore/azureml/tensorboard-demo_1610980377_d6f7af6f/azureml_compute_logs: mkdir /mnt/batch/tasks/shared/LS_root/jobs/amlbriksews/azureml/tensorboard-demo_1610980377_d6f7af6f/mounts/workspaceblobstore: file exists\\n\\tInfo: Failed to prepare an environment for the job execution: Job environment preparation failed on 10.0.0.4 with err exit status 1.\",\n        \"messageFormat\": \"{Message}\",\n        \"messageParameters\": {\n            \"Message\": \"AzureMLCompute job failed.\\nInitializationError: Failed to create Batch AI directory.\\n\\tReason: Failed to create Job Directory /mnt/batch/tasks/shared/LS_root/jobs/amlbriksews/azureml/tensorboard-demo_1610980377_d6f7af6f/mounts/workspaceblobstore/azureml/tensorboard-demo_1610980377_d6f7af6f/azureml_compute_logs: mkdir /mnt/batch/tasks/shared/LS_root/jobs/amlbriksews/azureml/tensorboard-demo_1610980377_d6f7af6f/mounts/workspaceblobstore: file exists\\n\\tInfo: Failed to prepare an environment for the job execution: Job environment preparation failed on 10.0.0.4 with err exit status 1.\"\n        },\n        \"details\": [],\n        \"innerError\": {\n            \"code\": \"BadArgument\",\n            \"innerError\": {\n                \"code\": \"AmlComputeBadRequest\"\n            }\n        }\n    },\n    \"correlation\": {\n        \"operation\": null,\n        \"request\": \"3a482786efdddfd4\"\n    },\n    \"environment\": \"westeurope\",\n    \"location\": \"westeurope\",\n    \"time\": \"2021-01-18T14:33:21.848878Z\",\n    \"componentName\": \"execution-worker\"\n}\n\tInnerException None\n\tErrorResponse \n{\n    \"error\": {\n        \"message\": \"Activity Failed:\\n{\\n    \\\"error\\\": {\\n        \\\"code\\\": \\\"UserError\\\",\\n        \\\"message\\\": \\\"AzureMLCompute job failed.\\\\nInitializationError: Failed to create Batch AI directory.\\\\n\\\\tReason: Failed to create Job Directory /mnt/batch/tasks/shared/LS_root/jobs/amlbriksews/azureml/tensorboard-demo_1610980377_d6f7af6f/mounts/workspaceblobstore/azureml/tensorboard-demo_1610980377_d6f7af6f/azureml_compute_logs: mkdir /mnt/batch/tasks/shared/LS_root/jobs/amlbriksews/azureml/tensorboard-demo_1610980377_d6f7af6f/mounts/workspaceblobstore: file exists\\\\n\\\\tInfo: Failed to prepare an environment for the job execution: Job environment preparation failed on 10.0.0.4 with err exit status 1.\\\",\\n        \\\"messageFormat\\\": \\\"{Message}\\\",\\n        \\\"messageParameters\\\": {\\n            \\\"Message\\\": \\\"AzureMLCompute job failed.\\\\nInitializationError: Failed to create Batch AI directory.\\\\n\\\\tReason: Failed to create Job Directory /mnt/batch/tasks/shared/LS_root/jobs/amlbriksews/azureml/tensorboard-demo_1610980377_d6f7af6f/mounts/workspaceblobstore/azureml/tensorboard-demo_1610980377_d6f7af6f/azureml_compute_logs: mkdir /mnt/batch/tasks/shared/LS_root/jobs/amlbriksews/azureml/tensorboard-demo_1610980377_d6f7af6f/mounts/workspaceblobstore: file exists\\\\n\\\\tInfo: Failed to prepare an environment for the job execution: Job environment preparation failed on 10.0.0.4 with err exit status 1.\\\"\\n        },\\n        \\\"details\\\": [],\\n        \\\"innerError\\\": {\\n            \\\"code\\\": \\\"BadArgument\\\",\\n            \\\"innerError\\\": {\\n                \\\"code\\\": \\\"AmlComputeBadRequest\\\"\\n            }\\n        }\\n    },\\n    \\\"correlation\\\": {\\n        \\\"operation\\\": null,\\n        \\\"request\\\": \\\"3a482786efdddfd4\\\"\\n    },\\n    \\\"environment\\\": \\\"westeurope\\\",\\n    \\\"location\\\": \\\"westeurope\\\",\\n    \\\"time\\\": \\\"2021-01-18T14:33:21.848878Z\\\",\\n    \\\"componentName\\\": \\\"execution-worker\\\"\\n}\"\n    }\n}",
     "output_type": "error",
     "traceback": [
      "\u001b[0;31m---------------------------------------------------------------------------\u001b[0m",
      "\u001b[0;31mActivityFailedException\u001b[0m                   Traceback (most recent call last)",
      "\u001b[0;32m<ipython-input-9-cc3a48a4f903>\u001b[0m in \u001b[0;36m<module>\u001b[0;34m\u001b[0m\n\u001b[0;32m----> 1\u001b[0;31m \u001b[0mrun\u001b[0m\u001b[0;34m.\u001b[0m\u001b[0mwait_for_completion\u001b[0m\u001b[0;34m(\u001b[0m\u001b[0mshow_output\u001b[0m\u001b[0;34m=\u001b[0m\u001b[0;32mFalse\u001b[0m\u001b[0;34m)\u001b[0m\u001b[0;34m\u001b[0m\u001b[0;34m\u001b[0m\u001b[0m\n\u001b[0m",
      "\u001b[0;32m/anaconda/envs/azureml_py36/lib/python3.6/site-packages/azureml/core/run.py\u001b[0m in \u001b[0;36mwait_for_completion\u001b[0;34m(self, show_output, wait_post_processing, raise_on_error)\u001b[0m\n\u001b[1;32m    748\u001b[0m \u001b[0;34m\u001b[0m\u001b[0m\n\u001b[1;32m    749\u001b[0m                 \u001b[0;32mif\u001b[0m \u001b[0mraise_on_error\u001b[0m\u001b[0;34m:\u001b[0m\u001b[0;34m\u001b[0m\u001b[0;34m\u001b[0m\u001b[0m\n\u001b[0;32m--> 750\u001b[0;31m                     \u001b[0;32mraise\u001b[0m \u001b[0mActivityFailedException\u001b[0m\u001b[0;34m(\u001b[0m\u001b[0merror_details\u001b[0m\u001b[0;34m=\u001b[0m\u001b[0mjson\u001b[0m\u001b[0;34m.\u001b[0m\u001b[0mdumps\u001b[0m\u001b[0;34m(\u001b[0m\u001b[0merror\u001b[0m\u001b[0;34m,\u001b[0m \u001b[0mindent\u001b[0m\u001b[0;34m=\u001b[0m\u001b[0;36m4\u001b[0m\u001b[0;34m)\u001b[0m\u001b[0;34m)\u001b[0m\u001b[0;34m\u001b[0m\u001b[0;34m\u001b[0m\u001b[0m\n\u001b[0m\u001b[1;32m    751\u001b[0m \u001b[0;34m\u001b[0m\u001b[0m\n\u001b[1;32m    752\u001b[0m             \u001b[0;32mreturn\u001b[0m \u001b[0mfinal_details\u001b[0m\u001b[0;34m\u001b[0m\u001b[0;34m\u001b[0m\u001b[0m\n",
      "\u001b[0;31mActivityFailedException\u001b[0m: ActivityFailedException:\n\tMessage: Activity Failed:\n{\n    \"error\": {\n        \"code\": \"UserError\",\n        \"message\": \"AzureMLCompute job failed.\\nInitializationError: Failed to create Batch AI directory.\\n\\tReason: Failed to create Job Directory /mnt/batch/tasks/shared/LS_root/jobs/amlbriksews/azureml/tensorboard-demo_1610980377_d6f7af6f/mounts/workspaceblobstore/azureml/tensorboard-demo_1610980377_d6f7af6f/azureml_compute_logs: mkdir /mnt/batch/tasks/shared/LS_root/jobs/amlbriksews/azureml/tensorboard-demo_1610980377_d6f7af6f/mounts/workspaceblobstore: file exists\\n\\tInfo: Failed to prepare an environment for the job execution: Job environment preparation failed on 10.0.0.4 with err exit status 1.\",\n        \"messageFormat\": \"{Message}\",\n        \"messageParameters\": {\n            \"Message\": \"AzureMLCompute job failed.\\nInitializationError: Failed to create Batch AI directory.\\n\\tReason: Failed to create Job Directory /mnt/batch/tasks/shared/LS_root/jobs/amlbriksews/azureml/tensorboard-demo_1610980377_d6f7af6f/mounts/workspaceblobstore/azureml/tensorboard-demo_1610980377_d6f7af6f/azureml_compute_logs: mkdir /mnt/batch/tasks/shared/LS_root/jobs/amlbriksews/azureml/tensorboard-demo_1610980377_d6f7af6f/mounts/workspaceblobstore: file exists\\n\\tInfo: Failed to prepare an environment for the job execution: Job environment preparation failed on 10.0.0.4 with err exit status 1.\"\n        },\n        \"details\": [],\n        \"innerError\": {\n            \"code\": \"BadArgument\",\n            \"innerError\": {\n                \"code\": \"AmlComputeBadRequest\"\n            }\n        }\n    },\n    \"correlation\": {\n        \"operation\": null,\n        \"request\": \"3a482786efdddfd4\"\n    },\n    \"environment\": \"westeurope\",\n    \"location\": \"westeurope\",\n    \"time\": \"2021-01-18T14:33:21.848878Z\",\n    \"componentName\": \"execution-worker\"\n}\n\tInnerException None\n\tErrorResponse \n{\n    \"error\": {\n        \"message\": \"Activity Failed:\\n{\\n    \\\"error\\\": {\\n        \\\"code\\\": \\\"UserError\\\",\\n        \\\"message\\\": \\\"AzureMLCompute job failed.\\\\nInitializationError: Failed to create Batch AI directory.\\\\n\\\\tReason: Failed to create Job Directory /mnt/batch/tasks/shared/LS_root/jobs/amlbriksews/azureml/tensorboard-demo_1610980377_d6f7af6f/mounts/workspaceblobstore/azureml/tensorboard-demo_1610980377_d6f7af6f/azureml_compute_logs: mkdir /mnt/batch/tasks/shared/LS_root/jobs/amlbriksews/azureml/tensorboard-demo_1610980377_d6f7af6f/mounts/workspaceblobstore: file exists\\\\n\\\\tInfo: Failed to prepare an environment for the job execution: Job environment preparation failed on 10.0.0.4 with err exit status 1.\\\",\\n        \\\"messageFormat\\\": \\\"{Message}\\\",\\n        \\\"messageParameters\\\": {\\n            \\\"Message\\\": \\\"AzureMLCompute job failed.\\\\nInitializationError: Failed to create Batch AI directory.\\\\n\\\\tReason: Failed to create Job Directory /mnt/batch/tasks/shared/LS_root/jobs/amlbriksews/azureml/tensorboard-demo_1610980377_d6f7af6f/mounts/workspaceblobstore/azureml/tensorboard-demo_1610980377_d6f7af6f/azureml_compute_logs: mkdir /mnt/batch/tasks/shared/LS_root/jobs/amlbriksews/azureml/tensorboard-demo_1610980377_d6f7af6f/mounts/workspaceblobstore: file exists\\\\n\\\\tInfo: Failed to prepare an environment for the job execution: Job environment preparation failed on 10.0.0.4 with err exit status 1.\\\"\\n        },\\n        \\\"details\\\": [],\\n        \\\"innerError\\\": {\\n            \\\"code\\\": \\\"BadArgument\\\",\\n            \\\"innerError\\\": {\\n                \\\"code\\\": \\\"AmlComputeBadRequest\\\"\\n            }\\n        }\\n    },\\n    \\\"correlation\\\": {\\n        \\\"operation\\\": null,\\n        \\\"request\\\": \\\"3a482786efdddfd4\\\"\\n    },\\n    \\\"environment\\\": \\\"westeurope\\\",\\n    \\\"location\\\": \\\"westeurope\\\",\\n    \\\"time\\\": \\\"2021-01-18T14:33:21.848878Z\\\",\\n    \\\"componentName\\\": \\\"execution-worker\\\"\\n}\"\n    }\n}"
     ]
    }
   ],
   "source": [
    "run.wait_for_completion(show_output=False)"
   ]
  },
  {
   "cell_type": "code",
   "execution_count": null,
   "metadata": {},
   "outputs": [],
   "source": [
    "from azureml.tensorboard import Tensorboard\n",
    "\n",
    "tb = Tensorboard([run])\n",
    "\n",
    "# If successful, start() returns a string with the URI of the instance.\n",
    "tb.start()\n",
    "\n",
    "# After your job completes, be sure to stop() the streaming otherwise it will continue to run. \n",
    "tb.stop()"
   ]
  },
  {
   "cell_type": "code",
   "execution_count": null,
   "metadata": {},
   "outputs": [],
   "source": []
  }
 ],
 "metadata": {
  "kernelspec": {
   "display_name": "Python 3.6 - AzureML",
   "language": "python",
   "name": "python3-azureml"
  },
  "language_info": {
   "codemirror_mode": {
    "name": "ipython",
    "version": 3
   },
   "file_extension": ".py",
   "mimetype": "text/x-python",
   "name": "python",
   "nbconvert_exporter": "python",
   "pygments_lexer": "ipython3",
   "version": "3.6.9"
  }
 },
 "nbformat": 4,
 "nbformat_minor": 4
}
