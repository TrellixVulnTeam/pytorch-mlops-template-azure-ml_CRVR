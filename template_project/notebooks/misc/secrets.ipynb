{
 "cells": [
  {
   "cell_type": "markdown",
   "metadata": {},
   "source": [
    "# Set Secrets"
   ]
  },
  {
   "cell_type": "code",
   "execution_count": 4,
   "metadata": {},
   "outputs": [],
   "source": [
    "from azureml.core import Workspace\n",
    "from azureml.core import Keyvault\n",
    "import os\n",
    "\n",
    "ws = Workspace.from_config()\n",
    "# my_secret = os.environ.get(\"MY_SECRET\")\n",
    "my_secret = \"dc0a4a08-8c02-466f-85f9-fa3bab3e9444\"\n",
    "keyvault = ws.get_default_keyvault()\n",
    "keyvault.set_secret(name=\"sbirk-acr-sp-username\", value = my_secret)\n",
    "\n",
    "my_secret = \"~hZh.GOOR~x_X2c-4UZ~u8~~0v0Xg5h7D7\"\n",
    "keyvault = ws.get_default_keyvault()\n",
    "keyvault.set_secret(name=\"sbirk-acr-sp-password\", value = my_secret)"
   ]
  },
  {
   "cell_type": "markdown",
   "metadata": {},
   "source": [
    "Do not put the secret value in your Python code as it is insecure to store it in file as cleartext. Instead, obtain the secret value from an environment variable, for example Azure DevOps build secret, or from interactive user input."
   ]
  },
  {
   "cell_type": "markdown",
   "metadata": {},
   "source": [
    "In your local code, you can use the get_secret() method to get the secret value by name.\n",
    "\n",
    "For runs submitted the Experiment.submit , use the get_secret() method with the Run class. Because a submitted run is aware of its workspace, this method shortcuts the Workspace instantiation and returns the secret value directly."
   ]
  },
  {
   "cell_type": "markdown",
   "metadata": {},
   "source": [
    "# Get Secrets"
   ]
  },
  {
   "cell_type": "code",
   "execution_count": 6,
   "metadata": {},
   "outputs": [],
   "source": [
    "acr_sp_username = keyvault.get_secret(name=\"sbirk-acr-sp-username\")\n",
    "acr_sp_password = keyvault.get_secret(name=\"sbirk-acr-sp-password\")"
   ]
  },
  {
   "cell_type": "code",
   "execution_count": null,
   "metadata": {},
   "outputs": [],
   "source": [
    "# Code in submitted run\n",
    "from azureml.core import Experiment, Run\n",
    "\n",
    "run = Run.get_context()\n",
    "secret_value = run.get_secret(name=\"mysecret\")"
   ]
  }
 ],
 "metadata": {
  "kernelspec": {
   "display_name": "Python 3.6 - AzureML",
   "language": "python",
   "name": "python3-azureml"
  },
  "language_info": {
   "codemirror_mode": {
    "name": "ipython",
    "version": 3
   },
   "file_extension": ".py",
   "mimetype": "text/x-python",
   "name": "python",
   "nbconvert_exporter": "python",
   "pygments_lexer": "ipython3",
   "version": "3.6.9"
  }
 },
 "nbformat": 4,
 "nbformat_minor": 4
}
