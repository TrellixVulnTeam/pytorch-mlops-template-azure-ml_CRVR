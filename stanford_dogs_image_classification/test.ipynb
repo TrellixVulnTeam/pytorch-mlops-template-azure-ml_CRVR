{
 "cells": [
  {
   "cell_type": "code",
   "execution_count": 1,
   "metadata": {},
   "outputs": [],
   "source": [
    "%load_ext autoreload\n",
    "%autoreload 2"
   ]
  },
  {
   "cell_type": "code",
   "execution_count": 2,
   "metadata": {},
   "outputs": [],
   "source": [
    "import os\n",
    "from src.data import (\n",
    "    StanfordDogsDataset,\n",
    "    RescaleTransform,\n",
    "    NormalizeTransform,\n",
    "    FlattenTransform,\n",
    "    ComposeTransform    \n",
    ")"
   ]
  },
  {
   "cell_type": "code",
   "execution_count": 3,
   "metadata": {},
   "outputs": [],
   "source": [
    "dataset_root_path = os.path.join(os.getcwd(), \"dataset\")\n",
    "image_download_url = \"http://vision.stanford.edu/aditya86/ImageNetDogs/images.tar\"\n",
    "annotation_download_url = \"http://vision.stanford.edu/aditya86/ImageNetDogs/annotation.tar\""
   ]
  },
  {
   "cell_type": "code",
   "execution_count": 4,
   "metadata": {},
   "outputs": [
    {
     "name": "stderr",
     "output_type": "stream",
     "text": [
      "0it [00:00, ?it/s]"
     ]
    },
    {
     "name": "stdout",
     "output_type": "stream",
     "text": [
      "Downloading http://vision.stanford.edu/aditya86/ImageNetDogs/images.tar to /mnt/batch/tasks/shared/LS_root/mounts/clusters/sbirk-ci/code/Users/s.birk/pytorch-use-cases-azure-ml/stanford_dogs_image_classification/dataset/images.tar\n"
     ]
    },
    {
     "name": "stderr",
     "output_type": "stream",
     "text": [
      "100%|█████████▉| 791904256/793579520 [00:52<00:00, 19513811.86it/s]"
     ]
    },
    {
     "name": "stdout",
     "output_type": "stream",
     "text": [
      "Extracting archive /mnt/batch/tasks/shared/LS_root/mounts/clusters/sbirk-ci/code/Users/s.birk/pytorch-use-cases-azure-ml/stanford_dogs_image_classification/dataset/images.tar\n"
     ]
    },
    {
     "name": "stderr",
     "output_type": "stream",
     "text": [
      "793583616it [02:05, 6312325.63it/s]                                \n",
      "0it [00:00, ?it/s]"
     ]
    },
    {
     "name": "stdout",
     "output_type": "stream",
     "text": [
      "Downloading http://vision.stanford.edu/aditya86/ImageNetDogs/annotation.tar to /mnt/batch/tasks/shared/LS_root/mounts/clusters/sbirk-ci/code/Users/s.birk/pytorch-use-cases-azure-ml/stanford_dogs_image_classification/dataset/annotation.tar\n"
     ]
    },
    {
     "name": "stderr",
     "output_type": "stream",
     "text": [
      " 95%|█████████▌| 20799488/21852160 [00:04<00:00, 11817623.47it/s]"
     ]
    },
    {
     "name": "stdout",
     "output_type": "stream",
     "text": [
      "Extracting archive /mnt/batch/tasks/shared/LS_root/mounts/clusters/sbirk-ci/code/Users/s.birk/pytorch-use-cases-azure-ml/stanford_dogs_image_classification/dataset/annotation.tar\n"
     ]
    },
    {
     "name": "stderr",
     "output_type": "stream",
     "text": [
      "21856256it [00:39, 553597.21it/s]                                \n"
     ]
    }
   ],
   "source": [
    "dataset = StanfordDogsDataset(\n",
    "        mode=\"train\",\n",
    "        root_path=dataset_root_path, \n",
    "        image_download_url=image_download_url,\n",
    "        annotation_download_url=annotation_download_url,\n",
    "        transform=None,\n",
    "        split={'train': 0.6, 'val': 0.2, 'test': 0.2}\n",
    "    )"
   ]
  },
  {
   "cell_type": "code",
   "execution_count": 7,
   "metadata": {},
   "outputs": [],
   "source": [
    "import torchvision"
   ]
  },
  {
   "cell_type": "code",
   "execution_count": 9,
   "metadata": {},
   "outputs": [],
   "source": [
    "trainset = torchvision.datasets.ImageFolder(\n",
    "    root=os.path.join(os.getcwd(), \"data\"))"
   ]
  }
 ],
 "metadata": {
  "kernelspec": {
   "display_name": "Python 3.6 - AzureML",
   "language": "python",
   "name": "python3-azureml"
  },
  "language_info": {
   "codemirror_mode": {
    "name": "ipython",
    "version": 3
   },
   "file_extension": ".py",
   "mimetype": "text/x-python",
   "name": "python",
   "nbconvert_exporter": "python",
   "pygments_lexer": "ipython3",
   "version": "3.6.9"
  }
 },
 "nbformat": 4,
 "nbformat_minor": 4
}
