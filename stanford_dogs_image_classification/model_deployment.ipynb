{
 "cells": [
  {
   "cell_type": "code",
   "execution_count": 24,
   "metadata": {},
   "outputs": [],
   "source": [
    "import uuid\n",
    "from azureml.core import Environment, Workspace\n",
    "from azureml.core.compute import AksCompute, ComputeTarget\n",
    "from azureml.core.compute_target import ComputeTargetException\n",
    "from azureml.core.model import InferenceConfig, Model\n",
    "from azureml.core.webservice import AciWebservice, AksWebservice, Webservice"
   ]
  },
  {
   "cell_type": "code",
   "execution_count": 15,
   "metadata": {},
   "outputs": [],
   "source": [
    "'''ws = Workspace.get(name=\"sbirk-aml-ws\",\n",
    "                   subscription_id=\"bf088f59-f015-4332-bd36-54b988be7c90\",\n",
    "                   resource_group=\"sbirk-aml-rg\")'''\n",
    "\n",
    "ws = Workspace.from_config()\n",
    "model = Model(ws, \"cifar10-model\")"
   ]
  },
  {
   "cell_type": "code",
   "execution_count": 16,
   "metadata": {},
   "outputs": [],
   "source": [
    "env = Environment.get(workspace=ws, name=\"pytorch-aml-env\")"
   ]
  },
  {
   "cell_type": "code",
   "execution_count": 17,
   "metadata": {},
   "outputs": [],
   "source": [
    "# Create Inference Config\n",
    "inference_config = InferenceConfig(entry_script=\"deployment/score.py\",\n",
    "                                   environment=env)"
   ]
  },
  {
   "cell_type": "code",
   "execution_count": 18,
   "metadata": {},
   "outputs": [
    {
     "data": {
      "text/plain": [
       "'aci_config = AciWebservice.deploy_configuration(cpu_cores=1, \\n                                               memory_gb=1, \\n                                               tags={\"data\": \"Cifar\",  \"method\" : \"Pytorch\"}, \\n                                               description=\"Predict cifar images with a Pytorch CNN\")'"
      ]
     },
     "execution_count": 18,
     "metadata": {},
     "output_type": "execute_result"
    }
   ],
   "source": [
    "'''aci_config = AciWebservice.deploy_configuration(cpu_cores=1, \n",
    "                                               memory_gb=1, \n",
    "                                               tags={\"data\": \"Cifar\",  \"method\" : \"Pytorch\"}, \n",
    "                                               description=\"Predict cifar images with a Pytorch CNN\")'''"
   ]
  },
  {
   "cell_type": "markdown",
   "metadata": {},
   "source": [
    "# AKS Cluster"
   ]
  },
  {
   "cell_type": "markdown",
   "metadata": {},
   "source": [
    "## Option 1: Provisioning"
   ]
  },
  {
   "cell_type": "code",
   "execution_count": 25,
   "metadata": {},
   "outputs": [
    {
     "name": "stdout",
     "output_type": "stream",
     "text": [
      "Creating..\n",
      "FailedProvisioning operation finished, operation \"Failed\"\n"
     ]
    },
    {
     "ename": "ComputeTargetException",
     "evalue": "ComputeTargetException:\n\tMessage: Compute object provisioning polling reached non-successful terminal state, current provisioning state: Failed\nProvisioning operation error:\n{'code': 'InvalidTemplateDeployment', 'message': \"The template deployment '43e4aff2-41db-4acc-a8c9-12aec0bf6418' is not valid according to the validation procedure. The tracking id is '54694bd8-1f8d-4c3c-bc20-98d3105fcc9b'. See inner errors for details.\", 'details': [{'code': 'InvalidParameter', 'message': 'Provisioning of resource(s) for container service my-test-aksa7061699d9 in resource group rg-msaiempmodeltrainingamlwsf1aplateng-dev-westeurope-01 failed. Message: {\\n  \"code\": \"InvalidParameter\",\\n  \"message\": \"The length of the node resource group name is too long. The maximum length is 80 and the length of the value provided is 92. Please see https://aka.ms/aks-naming-rules for more details.\",\\n  \"target\": \"name\"\\n }. Details: '}]}\n\tInnerException None\n\tErrorResponse \n{\n    \"error\": {\n        \"message\": \"Compute object provisioning polling reached non-successful terminal state, current provisioning state: Failed\\nProvisioning operation error:\\n{'code': 'InvalidTemplateDeployment', 'message': \\\"The template deployment '43e4aff2-41db-4acc-a8c9-12aec0bf6418' is not valid according to the validation procedure. The tracking id is '54694bd8-1f8d-4c3c-bc20-98d3105fcc9b'. See inner errors for details.\\\", 'details': [{'code': 'InvalidParameter', 'message': 'Provisioning of resource(s) for container service my-test-aksa7061699d9 in resource group rg-msaiempmodeltrainingamlwsf1aplateng-dev-westeurope-01 failed. Message: {\\\\n  \\\"code\\\": \\\"InvalidParameter\\\",\\\\n  \\\"message\\\": \\\"The length of the node resource group name is too long. The maximum length is 80 and the length of the value provided is 92. Please see https://aka.ms/aks-naming-rules for more details.\\\",\\\\n  \\\"target\\\": \\\"name\\\"\\\\n }. Details: '}]}\"\n    }\n}",
     "output_type": "error",
     "traceback": [
      "\u001b[0;31m---------------------------------------------------------------------------\u001b[0m",
      "\u001b[0;31mComputeTargetException\u001b[0m                    Traceback (most recent call last)",
      "\u001b[0;32m<ipython-input-25-044c83ffe22c>\u001b[0m in \u001b[0;36m<module>\u001b[0;34m\u001b[0m\n\u001b[1;32m     26\u001b[0m \u001b[0;34m\u001b[0m\u001b[0m\n\u001b[1;32m     27\u001b[0m \u001b[0;32mif\u001b[0m \u001b[0maks_target\u001b[0m\u001b[0;34m.\u001b[0m\u001b[0mget_status\u001b[0m\u001b[0;34m(\u001b[0m\u001b[0;34m)\u001b[0m \u001b[0;34m!=\u001b[0m \u001b[0;34m\"Succeeded\"\u001b[0m\u001b[0;34m:\u001b[0m\u001b[0;34m\u001b[0m\u001b[0;34m\u001b[0m\u001b[0m\n\u001b[0;32m---> 28\u001b[0;31m     \u001b[0maks_target\u001b[0m\u001b[0;34m.\u001b[0m\u001b[0mwait_for_completion\u001b[0m\u001b[0;34m(\u001b[0m\u001b[0mshow_output\u001b[0m\u001b[0;34m=\u001b[0m\u001b[0;32mTrue\u001b[0m\u001b[0;34m)\u001b[0m\u001b[0;34m\u001b[0m\u001b[0;34m\u001b[0m\u001b[0m\n\u001b[0m",
      "\u001b[0;32m/anaconda/envs/azureml_py36/lib/python3.6/site-packages/azureml/core/compute/compute.py\u001b[0m in \u001b[0;36mwait_for_completion\u001b[0;34m(self, show_output, is_delete_operation)\u001b[0m\n\u001b[1;32m    573\u001b[0m                                              'Current state is {}'.format(self.provisioning_state))\n\u001b[1;32m    574\u001b[0m             \u001b[0;32melse\u001b[0m\u001b[0;34m:\u001b[0m\u001b[0;34m\u001b[0m\u001b[0;34m\u001b[0m\u001b[0m\n\u001b[0;32m--> 575\u001b[0;31m                 \u001b[0;32mraise\u001b[0m \u001b[0me\u001b[0m\u001b[0;34m\u001b[0m\u001b[0;34m\u001b[0m\u001b[0m\n\u001b[0m\u001b[1;32m    576\u001b[0m \u001b[0;34m\u001b[0m\u001b[0m\n\u001b[1;32m    577\u001b[0m     \u001b[0;32mdef\u001b[0m \u001b[0m_wait_for_completion\u001b[0m\u001b[0;34m(\u001b[0m\u001b[0mself\u001b[0m\u001b[0;34m,\u001b[0m \u001b[0mshow_output\u001b[0m\u001b[0;34m)\u001b[0m\u001b[0;34m:\u001b[0m\u001b[0;34m\u001b[0m\u001b[0;34m\u001b[0m\u001b[0m\n",
      "\u001b[0;32m/anaconda/envs/azureml_py36/lib/python3.6/site-packages/azureml/core/compute/compute.py\u001b[0m in \u001b[0;36mwait_for_completion\u001b[0;34m(self, show_output, is_delete_operation)\u001b[0m\n\u001b[1;32m    566\u001b[0m                                              \u001b[0;34m'state, current provisioning state: {}\\n'\u001b[0m\u001b[0;34m\u001b[0m\u001b[0;34m\u001b[0m\u001b[0m\n\u001b[1;32m    567\u001b[0m                                              \u001b[0;34m'Provisioning operation error:\\n'\u001b[0m\u001b[0;34m\u001b[0m\u001b[0;34m\u001b[0m\u001b[0m\n\u001b[0;32m--> 568\u001b[0;31m                                              '{}'.format(self.provisioning_state, error_response))\n\u001b[0m\u001b[1;32m    569\u001b[0m         \u001b[0;32mexcept\u001b[0m \u001b[0mComputeTargetException\u001b[0m \u001b[0;32mas\u001b[0m \u001b[0me\u001b[0m\u001b[0;34m:\u001b[0m\u001b[0;34m\u001b[0m\u001b[0;34m\u001b[0m\u001b[0m\n\u001b[1;32m    570\u001b[0m             \u001b[0;32mif\u001b[0m \u001b[0me\u001b[0m\u001b[0;34m.\u001b[0m\u001b[0mmessage\u001b[0m \u001b[0;34m==\u001b[0m \u001b[0;34m'No operation endpoint'\u001b[0m\u001b[0;34m:\u001b[0m\u001b[0;34m\u001b[0m\u001b[0;34m\u001b[0m\u001b[0m\n",
      "\u001b[0;31mComputeTargetException\u001b[0m: ComputeTargetException:\n\tMessage: Compute object provisioning polling reached non-successful terminal state, current provisioning state: Failed\nProvisioning operation error:\n{'code': 'InvalidTemplateDeployment', 'message': \"The template deployment '43e4aff2-41db-4acc-a8c9-12aec0bf6418' is not valid according to the validation procedure. The tracking id is '54694bd8-1f8d-4c3c-bc20-98d3105fcc9b'. See inner errors for details.\", 'details': [{'code': 'InvalidParameter', 'message': 'Provisioning of resource(s) for container service my-test-aksa7061699d9 in resource group rg-msaiempmodeltrainingamlwsf1aplateng-dev-westeurope-01 failed. Message: {\\n  \"code\": \"InvalidParameter\",\\n  \"message\": \"The length of the node resource group name is too long. The maximum length is 80 and the length of the value provided is 92. Please see https://aka.ms/aks-naming-rules for more details.\",\\n  \"target\": \"name\"\\n }. Details: '}]}\n\tInnerException None\n\tErrorResponse \n{\n    \"error\": {\n        \"message\": \"Compute object provisioning polling reached non-successful terminal state, current provisioning state: Failed\\nProvisioning operation error:\\n{'code': 'InvalidTemplateDeployment', 'message': \\\"The template deployment '43e4aff2-41db-4acc-a8c9-12aec0bf6418' is not valid according to the validation procedure. The tracking id is '54694bd8-1f8d-4c3c-bc20-98d3105fcc9b'. See inner errors for details.\\\", 'details': [{'code': 'InvalidParameter', 'message': 'Provisioning of resource(s) for container service my-test-aksa7061699d9 in resource group rg-msaiempmodeltrainingamlwsf1aplateng-dev-westeurope-01 failed. Message: {\\\\n  \\\"code\\\": \\\"InvalidParameter\\\",\\\\n  \\\"message\\\": \\\"The length of the node resource group name is too long. The maximum length is 80 and the length of the value provided is 92. Please see https://aka.ms/aks-naming-rules for more details.\\\",\\\\n  \\\"target\\\": \\\"name\\\"\\\\n }. Details: '}]}\"\n    }\n}"
     ]
    }
   ],
   "source": [
    "# Choose a name for your AKS cluster\n",
    "aks_name = \"my-test-aks\"\n",
    "\n",
    "# Verify that cluster does not exist already\n",
    "try:\n",
    "    aks_target = ComputeTarget(workspace=ws, name=aks_name)\n",
    "    print(\"Found existing cluster, use it.\")\n",
    "except ComputeTargetException:\n",
    "    # Use the default configuration (you can also provide parameters to customize this).\n",
    "    # For example, to create a dev/test cluster, use:\n",
    "    prov_config = AksCompute.provisioning_configuration(cluster_purpose = AksCompute.ClusterPurpose.DEV_TEST)\n",
    "    # prov_config = AksCompute.provisioning_configuration()\n",
    "\n",
    "    # Example configuration to use an existing virtual network\n",
    "    # prov_config.vnet_name = \"mynetwork\"\n",
    "    # prov_config.vnet_resourcegroup_name = \"mygroup\"\n",
    "    # prov_config.subnet_name = \"default\"\n",
    "    # prov_config.service_cidr = \"10.0.0.0/16\"\n",
    "    # prov_config.dns_service_ip = \"10.0.0.10\"\n",
    "    # prov_config.docker_bridge_cidr = \"172.17.0.1/16\"\n",
    "\n",
    "    # Create the cluster\n",
    "    aks_target = ComputeTarget.create(workspace = ws,\n",
    "                                      name = aks_name,\n",
    "                                      provisioning_configuration = prov_config)\n",
    "\n",
    "if aks_target.get_status() != \"Succeeded\":\n",
    "    aks_target.wait_for_completion(show_output=True)"
   ]
  },
  {
   "cell_type": "markdown",
   "metadata": {},
   "source": [
    "## Option 2: Attaching"
   ]
  },
  {
   "cell_type": "code",
   "execution_count": 19,
   "metadata": {},
   "outputs": [
    {
     "name": "stdout",
     "output_type": "stream",
     "text": [
      "Succeeded\n"
     ]
    }
   ],
   "source": [
    "aks_target_name = \"newaksinf04\"\n",
    "aks_target = AksCompute(workspace=ws, name=aks_target_name)\n",
    "print(aks_target.get_status())"
   ]
  },
  {
   "cell_type": "code",
   "execution_count": 22,
   "metadata": {},
   "outputs": [],
   "source": [
    "aks_service_name =\"newendpoint06\"\n",
    "aks_config = AksWebservice.deploy_configuration(cpu_cores = 1, memory_gb = 4)"
   ]
  },
  {
   "cell_type": "code",
   "execution_count": 23,
   "metadata": {},
   "outputs": [
    {
     "name": "stdout",
     "output_type": "stream",
     "text": [
      "Tips: You can try get_logs(): https://aka.ms/debugimage#dockerlog or local deployment: https://aka.ms/debugimage#debug-locally to debug if deployment takes longer than 10 minutes.\n",
      "Running..\n",
      "Failed\n"
     ]
    },
    {
     "name": "stderr",
     "output_type": "stream",
     "text": [
      "ERROR - Service deployment polling reached non-successful terminal state, current service state: Failed\n",
      "Operation ID: 0d9dbf05-cd43-48fa-8d89-be54d7536287\n",
      "More information can be found using '.get_logs()'\n",
      "Error:\n",
      "{\n",
      "  \"code\": \"Forbidden\",\n",
      "  \"statusCode\": 403,\n",
      "  \"message\": \"Forbidden\",\n",
      "  \"details\": [\n",
      "    {\n",
      "      \"code\": \"KubernetesError\",\n",
      "      \"message\": \"Kubernetes error: Forbidden. Reason: {\\\"kind\\\":\\\"Status\\\",\\\"apiVersion\\\":\\\"v1\\\",\\\"metadata\\\":{},\\\"status\\\":\\\"Failure\\\",\\\"message\\\":\\\"configmaps \\\\\\\"newendpoint06c6f00dadb1d747b6aafb199b6e6ea60c-config\\\\\\\" is forbidden: unable to create new content in namespace azureml-amls-msai-f1a-dev-westeurope-01 because it is being terminated\\\",\\\"reason\\\":\\\"Forbidden\\\",\\\"details\\\":{\\\"name\\\":\\\"newendpoint06c6f00dadb1d747b6aafb199b6e6ea60c-config\\\",\\\"kind\\\":\\\"configmaps\\\",\\\"causes\\\":[{\\\"reason\\\":\\\"NamespaceTerminating\\\",\\\"message\\\":\\\"namespace azureml-amls-msai-f1a-dev-westeurope-01 is being terminated\\\",\\\"field\\\":\\\"metadata.namespace\\\"}]},\\\"code\\\":403}\\n\"\n",
      "    }\n",
      "  ]\n",
      "}\n",
      "\n"
     ]
    },
    {
     "ename": "WebserviceException",
     "evalue": "WebserviceException:\n\tMessage: Service deployment polling reached non-successful terminal state, current service state: Failed\nOperation ID: 0d9dbf05-cd43-48fa-8d89-be54d7536287\nMore information can be found using '.get_logs()'\nError:\n{\n  \"code\": \"Forbidden\",\n  \"statusCode\": 403,\n  \"message\": \"Forbidden\",\n  \"details\": [\n    {\n      \"code\": \"KubernetesError\",\n      \"message\": \"Kubernetes error: Forbidden. Reason: {\\\"kind\\\":\\\"Status\\\",\\\"apiVersion\\\":\\\"v1\\\",\\\"metadata\\\":{},\\\"status\\\":\\\"Failure\\\",\\\"message\\\":\\\"configmaps \\\\\\\"newendpoint06c6f00dadb1d747b6aafb199b6e6ea60c-config\\\\\\\" is forbidden: unable to create new content in namespace azureml-amls-msai-f1a-dev-westeurope-01 because it is being terminated\\\",\\\"reason\\\":\\\"Forbidden\\\",\\\"details\\\":{\\\"name\\\":\\\"newendpoint06c6f00dadb1d747b6aafb199b6e6ea60c-config\\\",\\\"kind\\\":\\\"configmaps\\\",\\\"causes\\\":[{\\\"reason\\\":\\\"NamespaceTerminating\\\",\\\"message\\\":\\\"namespace azureml-amls-msai-f1a-dev-westeurope-01 is being terminated\\\",\\\"field\\\":\\\"metadata.namespace\\\"}]},\\\"code\\\":403}\\n\"\n    }\n  ]\n}\n\tInnerException None\n\tErrorResponse \n{\n    \"error\": {\n        \"message\": \"Service deployment polling reached non-successful terminal state, current service state: Failed\\nOperation ID: 0d9dbf05-cd43-48fa-8d89-be54d7536287\\nMore information can be found using '.get_logs()'\\nError:\\n{\\n  \\\"code\\\": \\\"Forbidden\\\",\\n  \\\"statusCode\\\": 403,\\n  \\\"message\\\": \\\"Forbidden\\\",\\n  \\\"details\\\": [\\n    {\\n      \\\"code\\\": \\\"KubernetesError\\\",\\n      \\\"message\\\": \\\"Kubernetes error: Forbidden. Reason: {\\\\\\\"kind\\\\\\\":\\\\\\\"Status\\\\\\\",\\\\\\\"apiVersion\\\\\\\":\\\\\\\"v1\\\\\\\",\\\\\\\"metadata\\\\\\\":{},\\\\\\\"status\\\\\\\":\\\\\\\"Failure\\\\\\\",\\\\\\\"message\\\\\\\":\\\\\\\"configmaps \\\\\\\\\\\\\\\"newendpoint06c6f00dadb1d747b6aafb199b6e6ea60c-config\\\\\\\\\\\\\\\" is forbidden: unable to create new content in namespace azureml-amls-msai-f1a-dev-westeurope-01 because it is being terminated\\\\\\\",\\\\\\\"reason\\\\\\\":\\\\\\\"Forbidden\\\\\\\",\\\\\\\"details\\\\\\\":{\\\\\\\"name\\\\\\\":\\\\\\\"newendpoint06c6f00dadb1d747b6aafb199b6e6ea60c-config\\\\\\\",\\\\\\\"kind\\\\\\\":\\\\\\\"configmaps\\\\\\\",\\\\\\\"causes\\\\\\\":[{\\\\\\\"reason\\\\\\\":\\\\\\\"NamespaceTerminating\\\\\\\",\\\\\\\"message\\\\\\\":\\\\\\\"namespace azureml-amls-msai-f1a-dev-westeurope-01 is being terminated\\\\\\\",\\\\\\\"field\\\\\\\":\\\\\\\"metadata.namespace\\\\\\\"}]},\\\\\\\"code\\\\\\\":403}\\\\n\\\"\\n    }\\n  ]\\n}\"\n    }\n}",
     "output_type": "error",
     "traceback": [
      "\u001b[0;31m---------------------------------------------------------------------------\u001b[0m",
      "\u001b[0;31mWebserviceException\u001b[0m                       Traceback (most recent call last)",
      "\u001b[0;32m<timed exec>\u001b[0m in \u001b[0;36m<module>\u001b[0;34m\u001b[0m\n",
      "\u001b[0;32m/anaconda/envs/azureml_py36/lib/python3.6/site-packages/azureml/core/webservice/webservice.py\u001b[0m in \u001b[0;36mwait_for_deployment\u001b[0;34m(self, show_output, timeout_sec)\u001b[0m\n\u001b[1;32m    810\u001b[0m                                           \u001b[0;34m'Error:\\n'\u001b[0m\u001b[0;34m\u001b[0m\u001b[0;34m\u001b[0m\u001b[0m\n\u001b[1;32m    811\u001b[0m                                           '{}'.format(self.state, self._operation_endpoint.split('/')[-1],\n\u001b[0;32m--> 812\u001b[0;31m                                                       logs_response, error_response), logger=module_logger)\n\u001b[0m\u001b[1;32m    813\u001b[0m             print('{} service creation operation finished, operation \"{}\"'.format(self._webservice_type,\n\u001b[1;32m    814\u001b[0m                                                                                   operation_state))\n",
      "\u001b[0;31mWebserviceException\u001b[0m: WebserviceException:\n\tMessage: Service deployment polling reached non-successful terminal state, current service state: Failed\nOperation ID: 0d9dbf05-cd43-48fa-8d89-be54d7536287\nMore information can be found using '.get_logs()'\nError:\n{\n  \"code\": \"Forbidden\",\n  \"statusCode\": 403,\n  \"message\": \"Forbidden\",\n  \"details\": [\n    {\n      \"code\": \"KubernetesError\",\n      \"message\": \"Kubernetes error: Forbidden. Reason: {\\\"kind\\\":\\\"Status\\\",\\\"apiVersion\\\":\\\"v1\\\",\\\"metadata\\\":{},\\\"status\\\":\\\"Failure\\\",\\\"message\\\":\\\"configmaps \\\\\\\"newendpoint06c6f00dadb1d747b6aafb199b6e6ea60c-config\\\\\\\" is forbidden: unable to create new content in namespace azureml-amls-msai-f1a-dev-westeurope-01 because it is being terminated\\\",\\\"reason\\\":\\\"Forbidden\\\",\\\"details\\\":{\\\"name\\\":\\\"newendpoint06c6f00dadb1d747b6aafb199b6e6ea60c-config\\\",\\\"kind\\\":\\\"configmaps\\\",\\\"causes\\\":[{\\\"reason\\\":\\\"NamespaceTerminating\\\",\\\"message\\\":\\\"namespace azureml-amls-msai-f1a-dev-westeurope-01 is being terminated\\\",\\\"field\\\":\\\"metadata.namespace\\\"}]},\\\"code\\\":403}\\n\"\n    }\n  ]\n}\n\tInnerException None\n\tErrorResponse \n{\n    \"error\": {\n        \"message\": \"Service deployment polling reached non-successful terminal state, current service state: Failed\\nOperation ID: 0d9dbf05-cd43-48fa-8d89-be54d7536287\\nMore information can be found using '.get_logs()'\\nError:\\n{\\n  \\\"code\\\": \\\"Forbidden\\\",\\n  \\\"statusCode\\\": 403,\\n  \\\"message\\\": \\\"Forbidden\\\",\\n  \\\"details\\\": [\\n    {\\n      \\\"code\\\": \\\"KubernetesError\\\",\\n      \\\"message\\\": \\\"Kubernetes error: Forbidden. Reason: {\\\\\\\"kind\\\\\\\":\\\\\\\"Status\\\\\\\",\\\\\\\"apiVersion\\\\\\\":\\\\\\\"v1\\\\\\\",\\\\\\\"metadata\\\\\\\":{},\\\\\\\"status\\\\\\\":\\\\\\\"Failure\\\\\\\",\\\\\\\"message\\\\\\\":\\\\\\\"configmaps \\\\\\\\\\\\\\\"newendpoint06c6f00dadb1d747b6aafb199b6e6ea60c-config\\\\\\\\\\\\\\\" is forbidden: unable to create new content in namespace azureml-amls-msai-f1a-dev-westeurope-01 because it is being terminated\\\\\\\",\\\\\\\"reason\\\\\\\":\\\\\\\"Forbidden\\\\\\\",\\\\\\\"details\\\\\\\":{\\\\\\\"name\\\\\\\":\\\\\\\"newendpoint06c6f00dadb1d747b6aafb199b6e6ea60c-config\\\\\\\",\\\\\\\"kind\\\\\\\":\\\\\\\"configmaps\\\\\\\",\\\\\\\"causes\\\\\\\":[{\\\\\\\"reason\\\\\\\":\\\\\\\"NamespaceTerminating\\\\\\\",\\\\\\\"message\\\\\\\":\\\\\\\"namespace azureml-amls-msai-f1a-dev-westeurope-01 is being terminated\\\\\\\",\\\\\\\"field\\\\\\\":\\\\\\\"metadata.namespace\\\\\\\"}]},\\\\\\\"code\\\\\\\":403}\\\\n\\\"\\n    }\\n  ]\\n}\"\n    }\n}"
     ]
    }
   ],
   "source": [
    "%%time\n",
    "aks_service = Model.deploy(workspace=ws,\n",
    "                           name=aks_service_name,\n",
    "                           models=[model],\n",
    "                           inference_config=inference_config,\n",
    "                           deployment_config=aks_config,\n",
    "                           deployment_target=aks_target)\n",
    "\n",
    "aks_service.wait_for_deployment(show_output = True)\n",
    "print(aks_service.state)"
   ]
  },
  {
   "cell_type": "code",
   "execution_count": null,
   "metadata": {},
   "outputs": [],
   "source": []
  },
  {
   "cell_type": "code",
   "execution_count": null,
   "metadata": {},
   "outputs": [],
   "source": []
  },
  {
   "cell_type": "code",
   "execution_count": null,
   "metadata": {},
   "outputs": [],
   "source": [
    "%%time\n",
    "env = Environment.get(workspace=ws, name=\"pytorch-aml-env\")\n",
    "\n",
    "inference_config = InferenceConfig(entry_script=\"deployment/score.py\",\n",
    "                                   environment=env)\n",
    "\n",
    "service_name = \"Cifar-pytorch-service\" + str(uuid.uuid4())[:4]\n",
    "\n",
    "service = Model.deploy(workspace=ws, \n",
    "                       name=service_name, \n",
    "                       models=[model], \n",
    "                       inference_config=inference_config, \n",
    "                       deployment_config=aci_config)\n",
    "\n",
    "service.wait_for_deployment(show_output=True)"
   ]
  },
  {
   "cell_type": "code",
   "execution_count": null,
   "metadata": {},
   "outputs": [],
   "source": [
    "print(service.scoring_uri)"
   ]
  },
  {
   "cell_type": "markdown",
   "metadata": {},
   "source": [
    "# Test the model"
   ]
  },
  {
   "cell_type": "code",
   "execution_count": null,
   "metadata": {},
   "outputs": [],
   "source": [
    "from utils import load_data\n",
    "import os\n",
    "import glob\n",
    "\n",
    "data_folder = os.path.join(os.getcwd(), 'data')\n",
    "# note we also shrink the intensity values (X) from 0-255 to 0-1. This helps the neural network converge faster\n",
    "X_test = load_data(glob.glob(os.path.join(data_folder,\"**/t10k-images-idx3-ubyte.gz\"), recursive=True)[0], False) / 255.0\n",
    "y_test = load_data(glob.glob(os.path.join(data_folder,\"**/t10k-labels-idx1-ubyte.gz\"), recursive=True)[0], True).reshape(-1)"
   ]
  },
  {
   "cell_type": "code",
   "execution_count": null,
   "metadata": {},
   "outputs": [],
   "source": [
    "import os\n",
    "from azureml.core import Dataset\n",
    "from azureml.opendatasets import MNIST\n",
    "\n",
    "data_folder = os.path.join(os.getcwd(), 'data')\n",
    "os.makedirs(data_folder, exist_ok=True)\n",
    "\n",
    "mnist_file_dataset = MNIST.get_file_dataset()\n",
    "mnist_file_dataset.download(data_folder, overwrite=True)"
   ]
  },
  {
   "cell_type": "code",
   "execution_count": null,
   "metadata": {},
   "outputs": [],
   "source": [
    "import json\n",
    "test = json.dumps({\"data\": X_test.tolist()})\n",
    "test = bytes(test, encoding='utf8')\n",
    "y_hat = service.run(input_data=test)"
   ]
  },
  {
   "cell_type": "code",
   "execution_count": null,
   "metadata": {},
   "outputs": [],
   "source": [
    "from sklearn.metrics import confusion_matrix\n",
    "\n",
    "conf_mx = confusion_matrix(y_test, y_hat)\n",
    "print(conf_mx)\n",
    "print('Overall accuracy:', np.average(y_hat == y_test))"
   ]
  },
  {
   "cell_type": "code",
   "execution_count": null,
   "metadata": {},
   "outputs": [],
   "source": [
    "# normalize the diagonal cells so that they don't overpower the rest of the cells when visualized\n",
    "row_sums = conf_mx.sum(axis=1, keepdims=True)\n",
    "norm_conf_mx = conf_mx / row_sums\n",
    "np.fill_diagonal(norm_conf_mx, 0)\n",
    "\n",
    "fig = plt.figure(figsize=(8,5))\n",
    "ax = fig.add_subplot(111)\n",
    "cax = ax.matshow(norm_conf_mx, cmap=plt.cm.bone)\n",
    "ticks = np.arange(0, 10, 1)\n",
    "ax.set_xticks(ticks)\n",
    "ax.set_yticks(ticks)\n",
    "ax.set_xticklabels(ticks)\n",
    "ax.set_yticklabels(ticks)\n",
    "fig.colorbar(cax)\n",
    "plt.ylabel('true labels', fontsize=14)\n",
    "plt.xlabel('predicted values', fontsize=14)\n",
    "plt.savefig('conf.png')\n",
    "plt.show()"
   ]
  },
  {
   "cell_type": "code",
   "execution_count": null,
   "metadata": {},
   "outputs": [],
   "source": [
    "import json\n",
    "\n",
    "# find 30 random samples from test set\n",
    "n = 30\n",
    "sample_indices = np.random.permutation(X_test.shape[0])[0:n]\n",
    "\n",
    "test_samples = json.dumps({\"data\": X_test[sample_indices].tolist()})\n",
    "test_samples = bytes(test_samples, encoding='utf8')\n",
    "\n",
    "# predict using the deployed model\n",
    "result = service.run(input_data=test_samples)\n",
    "\n",
    "# compare actual value vs. the predicted values:\n",
    "i = 0\n",
    "plt.figure(figsize = (20, 1))\n",
    "\n",
    "for s in sample_indices:\n",
    "    plt.subplot(1, n, i + 1)\n",
    "    plt.axhline('')\n",
    "    plt.axvline('')\n",
    "    \n",
    "    # use different color for misclassified sample\n",
    "    font_color = 'red' if y_test[s] != result[i] else 'black'\n",
    "    clr_map = plt.cm.gray if y_test[s] != result[i] else plt.cm.Greys\n",
    "    \n",
    "    plt.text(x=10, y =-10, s=result[i], fontsize=18, color=font_color)\n",
    "    plt.imshow(X_test[s].reshape(28, 28), cmap=clr_map)\n",
    "    \n",
    "    i = i + 1\n",
    "plt.show()"
   ]
  },
  {
   "cell_type": "code",
   "execution_count": null,
   "metadata": {},
   "outputs": [],
   "source": [
    "import requests\n",
    "\n",
    "# send a random row from the test set to score\n",
    "random_index = np.random.randint(0, len(X_test)-1)\n",
    "input_data = \"{\\\"data\\\": [\" + str(list(X_test[random_index])) + \"]}\"\n",
    "\n",
    "headers = {'Content-Type':'application/json'}\n",
    "\n",
    "# for AKS deployment you'd need to the service key in the header as well\n",
    "# api_key = service.get_key()\n",
    "# headers = {'Content-Type':'application/json',  'Authorization':('Bearer '+ api_key)} \n",
    "\n",
    "resp = requests.post(service.scoring_uri, input_data, headers=headers)\n",
    "\n",
    "print(\"POST to url\", service.scoring_uri)\n",
    "#print(\"input data:\", input_data)\n",
    "print(\"label:\", y_test[random_index])\n",
    "print(\"prediction:\", resp.text)"
   ]
  },
  {
   "cell_type": "code",
   "execution_count": null,
   "metadata": {},
   "outputs": [],
   "source": [
    "service.delete()"
   ]
  }
 ],
 "metadata": {
  "kernelspec": {
   "display_name": "Python 3.6 - AzureML",
   "language": "python",
   "name": "python3-azureml"
  },
  "language_info": {
   "codemirror_mode": {
    "name": "ipython",
    "version": 3
   },
   "file_extension": ".py",
   "mimetype": "text/x-python",
   "name": "python",
   "nbconvert_exporter": "python",
   "pygments_lexer": "ipython3",
   "version": "3.6.9"
  }
 },
 "nbformat": 4,
 "nbformat_minor": 4
}
