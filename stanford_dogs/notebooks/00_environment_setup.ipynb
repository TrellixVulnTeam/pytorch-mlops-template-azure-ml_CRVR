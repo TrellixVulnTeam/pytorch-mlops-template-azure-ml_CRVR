{
 "cells": [
  {
   "cell_type": "markdown",
   "metadata": {},
   "source": [
    "# TABLE OF CONTENTS:\n",
    "---\n",
    "* [Notebook Summary](#Notebook-Summary)\n",
    "* [Setup](#Setup)\n",
    "    * [Connect to Workspace](#Connect-to-Workspace)\n",
    "* [Conda Environments](#Conda-Environments)\n",
    "    * [Environment Artifacts](#Environment-Artifacts)\n",
    "        * [Development Environment](#Development-Environment)\n",
    "        * [Training Environment](#Training-Environment)\n",
    "        * [Deployment Environment](#Deployment-Environment)\n",
    "    * [Development Environment Setup](#Development-Environment-Setup)\n",
    "    * [Environment Registration](#Environment-Registration)\n",
    "---"
   ]
  },
  {
   "cell_type": "markdown",
   "metadata": {},
   "source": [
    "# Notebook Summary"
   ]
  },
  {
   "cell_type": "markdown",
   "metadata": {},
   "source": [
    "This notebook contains instructions on how to create a conda development environment as well as a Jupyter kernel based on this conda environment that can be used for development with Jupyter. It will also create Azure Machine Learning (AML) environments for development, training and deployment respectively. It should be run from the azureml_py36 kernel in the AML Compute Instance or from any other kernel that has the azureml.core library installed so that the new environment can be saved to the workspace using the AML Python SDK. Subsequent notebooks should then be run from the newly created Jupyter kernel and therefore contain all packages needed for development."
   ]
  },
  {
   "cell_type": "markdown",
   "metadata": {},
   "source": [
    "# Setup"
   ]
  },
  {
   "cell_type": "code",
   "execution_count": 2,
   "metadata": {},
   "outputs": [
    {
     "name": "stdout",
     "output_type": "stream",
     "text": [
      "azureml.core Version: 1.20.0\n"
     ]
    }
   ],
   "source": [
    "# Import libraries\n",
    "import azureml.core\n",
    "import os\n",
    "from azureml.core import Environment, Workspace\n",
    "\n",
    "print(f\"azureml.core Version: {azureml.core.__version__}\")"
   ]
  },
  {
   "cell_type": "markdown",
   "metadata": {},
   "source": [
    "### Connect to Workspace"
   ]
  },
  {
   "cell_type": "markdown",
   "metadata": {},
   "source": [
    "In order to connect and communicate with the AML workspace, a workspace object needs to be instantiated using the AML Python SDK."
   ]
  },
  {
   "cell_type": "code",
   "execution_count": 3,
   "metadata": {},
   "outputs": [],
   "source": [
    "# Connect to the AML workspace using interactive authentication\n",
    "ws = Workspace.from_config()"
   ]
  },
  {
   "cell_type": "markdown",
   "metadata": {},
   "source": [
    "# Conda Environments"
   ]
  },
  {
   "cell_type": "markdown",
   "metadata": {},
   "source": [
    "### Environment Artifacts"
   ]
  },
  {
   "cell_type": "markdown",
   "metadata": {},
   "source": [
    "To ensure reproducability and to facilitate collaboration, .yml files will be created for each environment. It is important that, when new packages are needed, they will be added to these .yml files.\n",
    "\n",
    "Environment-related artifacts will sit in their own parent directory `<PROJECT_ROOT>/environments`. Conda .yml files will have an own directory within the environments directory `(<PROJECT_ROOT>/environments/conda)`.\n",
    "\n",
    "In general it is a recommendation to use conda with the default channels as a priority means to install Python packages. If conda tells you the package you want doesn't exist, then use pip (or try conda-forge and other well-known channels, which have more packages available than the default conda channel). Conda makes sure that the dependencies of all packages are fulfilled simultaneously, the lack of which often leads to broken environments when using pip for the installation of packages."
   ]
  },
  {
   "cell_type": "markdown",
   "metadata": {},
   "source": [
    "#### Development Environment"
   ]
  },
  {
   "cell_type": "markdown",
   "metadata": {},
   "source": [
    "Create a **development_environment.yml** file which contains all packages needed for a conda environment for development. This .yml file will be used to build an AML environment as well as a local development environment and Jupyter kernel for your notebook development.\n",
    "\n",
    "If any dependencies are added throughout the model development phase they should be added to this .yml file and the conda environment and Jupyter kernel should be rebuilt. Packages should not be installed using \"pip install\" or \"conda install\" directly to ensure reproducability is maintained and all packages are tracked in the .yml file.\n",
    "\n",
    "If for any reasons you want to install packages just in your local development environment and not add them to the .yml file, then you should **not use \"pip install\" or \"conda install\"** from the notebook either. This will not ensure that the packages are installed in the conda environment of the Jupyter kernel that you are currently running. Instead use the syntax from the following cells to make certain that the packages are installed in the conda environment of your currently running kernel. Only do this for testing of packages and do not forget to add packages you want to keep to the .yml file eventually."
   ]
  },
  {
   "cell_type": "code",
   "execution_count": 4,
   "metadata": {},
   "outputs": [],
   "source": [
    "# # Do this for pip packages\n",
    "# import sys\n",
    "# !{sys.executable} -m pip install matplotlib"
   ]
  },
  {
   "cell_type": "code",
   "execution_count": 5,
   "metadata": {},
   "outputs": [],
   "source": [
    "# # Do this for conda packages\n",
    "# import sys\n",
    "# !conda install --yes --prefix {sys.prefix} matplotlib"
   ]
  },
  {
   "cell_type": "code",
   "execution_count": 6,
   "metadata": {},
   "outputs": [
    {
     "name": "stdout",
     "output_type": "stream",
     "text": [
      "Overwriting ../environments/conda/development_environment.yml\n"
     ]
    }
   ],
   "source": [
    "%%writefile ../environments/conda/development_environment.yml\n",
    "name: stanford-dogs-dev-env\n",
    "dependencies:\n",
    "- joblib=0.13.2\n",
    "- matplotlib=3.3.3\n",
    "- python=3.7.1\n",
    "- pytorch::pytorch=1.7.0\n",
    "- pytorch::torchvision=0.8.1\n",
    "- scipy=1.6.0\n",
    "- tqdm=4.38.0\n",
    "- pip:\n",
    "    - azure-cli\n",
    "    - azure-cognitiveservices-vision-customvision\n",
    "    - azureml-core==1.20.0\n",
    "    - azureml-defaults\n",
    "    - azureml-sdk\n",
    "    - azureml-widgets\n",
    "    - ipykernel\n",
    "    - python-dotenv==0.15.0\n",
    "channels:\n",
    "- conda-forge\n",
    "- pytorch"
   ]
  },
  {
   "cell_type": "markdown",
   "metadata": {},
   "source": [
    "#### Training Environment"
   ]
  },
  {
   "cell_type": "markdown",
   "metadata": {},
   "source": [
    "Also create .yml files for training and deployment. Each file is prefixed with their respective stage, i.e. **training_environment.yml** and **deployment_environment.yml**. Moreover, the environment names are also labeled according to the respective stage, namely **stanford-dogs-train-env** and **stanford-dogs-deploy-env**. "
   ]
  },
  {
   "cell_type": "code",
   "execution_count": 7,
   "metadata": {},
   "outputs": [
    {
     "name": "stdout",
     "output_type": "stream",
     "text": [
      "Overwriting ../environments/conda/training_environment.yml\n"
     ]
    }
   ],
   "source": [
    "%%writefile ../environments/conda/training_environment.yml\n",
    "name: stanford-dogs-train-env\n",
    "dependencies:\n",
    "- joblib=0.13.2\n",
    "- matplotlib=3.3.3\n",
    "- python=3.7.1\n",
    "- pytorch::pytorch=1.7.0\n",
    "- pytorch::torchvision=0.8.1\n",
    "- scipy=1.6.0\n",
    "- tqdm=4.38.0\n",
    "- pip:\n",
    "    - azure-cli\n",
    "    - azureml-core==1.20.0\n",
    "    - azureml-defaults\n",
    "    - azureml-sdk\n",
    "    - azureml-widgets\n",
    "    - ipykernel\n",
    "    - python-dotenv==0.15.0\n",
    "channels:\n",
    "- conda-forge\n",
    "- pytorch"
   ]
  },
  {
   "cell_type": "markdown",
   "metadata": {},
   "source": [
    "#### Deployment Environment"
   ]
  },
  {
   "cell_type": "code",
   "execution_count": 8,
   "metadata": {},
   "outputs": [
    {
     "name": "stdout",
     "output_type": "stream",
     "text": [
      "Overwriting ../environments/conda/deployment_environment.yml\n"
     ]
    }
   ],
   "source": [
    "%%writefile ../environments/conda/deployment_environment.yml\n",
    "name: stanford-dogs-deploy-env\n",
    "dependencies:\n",
    "- joblib=0.13.2\n",
    "- matplotlib=3.3.3\n",
    "- python=3.7.1\n",
    "- pytorch::pytorch=1.7.0\n",
    "- pytorch::torchvision=0.8.1\n",
    "- scipy=1.6.0\n",
    "- tqdm=4.38.0\n",
    "- pip:\n",
    "    - azure-cli\n",
    "    - azureml-core==1.20.0\n",
    "    - azureml-defaults\n",
    "    - azureml-sdk\n",
    "    - azureml-widgets\n",
    "    - ipykernel\n",
    "    - python-dotenv==0.15.0\n",
    "channels:\n",
    "- conda-forge\n",
    "- pytorch"
   ]
  },
  {
   "cell_type": "markdown",
   "metadata": {},
   "source": [
    "### Development Environment Setup"
   ]
  },
  {
   "cell_type": "markdown",
   "metadata": {},
   "source": [
    "In order to create a local conda development environment and Jupyter kernel to develop with, execute the following steps in the terminal from the project root directory."
   ]
  },
  {
   "cell_type": "markdown",
   "metadata": {},
   "source": [
    "`conda env create -f environments/conda/development_environment.yml --force`\n",
    "\n",
    "`conda activate stanford-dogs-dev-env`\n",
    "\n",
    "`python -m ipykernel install --user --name=stanford-dogs-dev-env`"
   ]
  },
  {
   "cell_type": "markdown",
   "metadata": {},
   "source": [
    "The environment will then be available as a kernel in JupyterLab or Jupyter:\n",
    "\n",
    "<img src=\"../docs/images/kernel_selection.png\" alt=\"kernel_selection\" width=\"400\"/>"
   ]
  },
  {
   "cell_type": "markdown",
   "metadata": {},
   "source": [
    "In order to list the available environments, the following command can be used:"
   ]
  },
  {
   "cell_type": "markdown",
   "metadata": {},
   "source": [
    "`conda env list`"
   ]
  },
  {
   "cell_type": "markdown",
   "metadata": {},
   "source": [
    "In order to remove an environment and the corresponding Jupyter kernel, the following commands can be used."
   ]
  },
  {
   "cell_type": "markdown",
   "metadata": {},
   "source": [
    "`jupyter kernelspec remove stanford-dogs-dev-env` (run this from within the environment)\n",
    "\n",
    "`conda deactivate`\n",
    "\n",
    "`conda env remove -n stanford-dogs-dev-env`"
   ]
  },
  {
   "cell_type": "markdown",
   "metadata": {},
   "source": [
    "### Environment Registration"
   ]
  },
  {
   "cell_type": "markdown",
   "metadata": {},
   "source": [
    "The environments are saved to the AML workspace from where they can be retrieved from another compute or by another Data Scientist during all phases along the ML lifecycle."
   ]
  },
  {
   "cell_type": "code",
   "execution_count": 9,
   "metadata": {},
   "outputs": [
    {
     "data": {
      "text/plain": [
       "{\n",
       "    \"databricks\": {\n",
       "        \"eggLibraries\": [],\n",
       "        \"jarLibraries\": [],\n",
       "        \"mavenLibraries\": [],\n",
       "        \"pypiLibraries\": [],\n",
       "        \"rcranLibraries\": []\n",
       "    },\n",
       "    \"docker\": {\n",
       "        \"arguments\": [],\n",
       "        \"baseDockerfile\": null,\n",
       "        \"baseImage\": \"mcr.microsoft.com/azureml/intelmpi2018.3-ubuntu16.04:20201113.v1\",\n",
       "        \"baseImageRegistry\": {\n",
       "            \"address\": null,\n",
       "            \"password\": null,\n",
       "            \"registryIdentity\": null,\n",
       "            \"username\": null\n",
       "        },\n",
       "        \"enabled\": true,\n",
       "        \"platform\": {\n",
       "            \"architecture\": \"amd64\",\n",
       "            \"os\": \"Linux\"\n",
       "        },\n",
       "        \"sharedVolumes\": true,\n",
       "        \"shmSize\": null\n",
       "    },\n",
       "    \"environmentVariables\": {\n",
       "        \"EXAMPLE_ENV_VAR\": \"EXAMPLE_VALUE\"\n",
       "    },\n",
       "    \"inferencingStackVersion\": null,\n",
       "    \"name\": \"stanford-dogs-dev-env\",\n",
       "    \"python\": {\n",
       "        \"baseCondaEnvironment\": null,\n",
       "        \"condaDependencies\": {\n",
       "            \"channels\": [\n",
       "                \"conda-forge\",\n",
       "                \"pytorch\"\n",
       "            ],\n",
       "            \"dependencies\": [\n",
       "                \"joblib=0.13.2\",\n",
       "                \"matplotlib=3.3.3\",\n",
       "                \"python=3.7.1\",\n",
       "                \"pytorch::pytorch=1.7.0\",\n",
       "                \"pytorch::torchvision=0.8.1\",\n",
       "                \"scipy=1.6.0\",\n",
       "                \"tqdm=4.38.0\",\n",
       "                {\n",
       "                    \"pip\": [\n",
       "                        \"azure-cli\",\n",
       "                        \"azure-cognitiveservices-vision-customvision\",\n",
       "                        \"azureml-core==1.20.0\",\n",
       "                        \"azureml-defaults\",\n",
       "                        \"azureml-sdk\",\n",
       "                        \"azureml-widgets\",\n",
       "                        \"ipykernel\",\n",
       "                        \"python-dotenv==0.15.0\"\n",
       "                    ]\n",
       "                }\n",
       "            ],\n",
       "            \"name\": \"azureml_8eef92f17c269eed4fac6e492b0f2893\"\n",
       "        },\n",
       "        \"condaDependenciesFile\": null,\n",
       "        \"interpreterPath\": \"python\",\n",
       "        \"userManagedDependencies\": false\n",
       "    },\n",
       "    \"r\": null,\n",
       "    \"spark\": {\n",
       "        \"packages\": [],\n",
       "        \"precachePackages\": true,\n",
       "        \"repositories\": []\n",
       "    },\n",
       "    \"version\": \"3\"\n",
       "}"
      ]
     },
     "execution_count": 9,
     "metadata": {},
     "output_type": "execute_result"
    }
   ],
   "source": [
    "# Create the AML development environment from conda development_environment.yml file\n",
    "dev_env = Environment.from_conda_specification(name=\"stanford-dogs-dev-env\",\n",
    "                                               file_path=\"../environments/conda/development_environment.yml\")\n",
    "\n",
    "# Enable docker-based environment\n",
    "dev_env.docker.enabled = True\n",
    "\n",
    "# Specify docker base image from mcr\n",
    "dev_env.docker.base_image = \"mcr.microsoft.com/azureml/intelmpi2018.3-ubuntu16.04:20201113.v1\"\n",
    "\n",
    "# Register the environment\n",
    "dev_env.register(workspace=ws)"
   ]
  },
  {
   "cell_type": "code",
   "execution_count": 10,
   "metadata": {},
   "outputs": [
    {
     "data": {
      "text/plain": [
       "{\n",
       "    \"databricks\": {\n",
       "        \"eggLibraries\": [],\n",
       "        \"jarLibraries\": [],\n",
       "        \"mavenLibraries\": [],\n",
       "        \"pypiLibraries\": [],\n",
       "        \"rcranLibraries\": []\n",
       "    },\n",
       "    \"docker\": {\n",
       "        \"arguments\": [],\n",
       "        \"baseDockerfile\": null,\n",
       "        \"baseImage\": \"mcr.microsoft.com/azureml/intelmpi2018.3-ubuntu16.04:20201113.v1\",\n",
       "        \"baseImageRegistry\": {\n",
       "            \"address\": null,\n",
       "            \"password\": null,\n",
       "            \"registryIdentity\": null,\n",
       "            \"username\": null\n",
       "        },\n",
       "        \"enabled\": true,\n",
       "        \"platform\": {\n",
       "            \"architecture\": \"amd64\",\n",
       "            \"os\": \"Linux\"\n",
       "        },\n",
       "        \"sharedVolumes\": true,\n",
       "        \"shmSize\": null\n",
       "    },\n",
       "    \"environmentVariables\": {\n",
       "        \"EXAMPLE_ENV_VAR\": \"EXAMPLE_VALUE\"\n",
       "    },\n",
       "    \"inferencingStackVersion\": null,\n",
       "    \"name\": \"stanford-dogs-train-env\",\n",
       "    \"python\": {\n",
       "        \"baseCondaEnvironment\": null,\n",
       "        \"condaDependencies\": {\n",
       "            \"channels\": [\n",
       "                \"conda-forge\",\n",
       "                \"pytorch\"\n",
       "            ],\n",
       "            \"dependencies\": [\n",
       "                \"joblib=0.13.2\",\n",
       "                \"matplotlib=3.3.3\",\n",
       "                \"python=3.7.1\",\n",
       "                \"pytorch::pytorch=1.7.0\",\n",
       "                \"pytorch::torchvision=0.8.1\",\n",
       "                \"scipy=1.6.0\",\n",
       "                \"tqdm=4.38.0\",\n",
       "                {\n",
       "                    \"pip\": [\n",
       "                        \"azure-cli\",\n",
       "                        \"azureml-core==1.20.0\",\n",
       "                        \"azureml-defaults\",\n",
       "                        \"azureml-sdk\",\n",
       "                        \"azureml-widgets\",\n",
       "                        \"ipykernel\",\n",
       "                        \"python-dotenv==0.15.0\"\n",
       "                    ]\n",
       "                }\n",
       "            ],\n",
       "            \"name\": \"azureml_3a65fd49f096be6cbe5921e5dcc78936\"\n",
       "        },\n",
       "        \"condaDependenciesFile\": null,\n",
       "        \"interpreterPath\": \"python\",\n",
       "        \"userManagedDependencies\": false\n",
       "    },\n",
       "    \"r\": null,\n",
       "    \"spark\": {\n",
       "        \"packages\": [],\n",
       "        \"precachePackages\": true,\n",
       "        \"repositories\": []\n",
       "    },\n",
       "    \"version\": \"1\"\n",
       "}"
      ]
     },
     "execution_count": 10,
     "metadata": {},
     "output_type": "execute_result"
    }
   ],
   "source": [
    "# Create the AML training environment from conda training_environment.yml file\n",
    "train_env = Environment.from_conda_specification(name=\"stanford-dogs-train-env\",\n",
    "                                                 file_path=\"../environments/conda/training_environment.yml\")\n",
    "\n",
    "# Enable docker-based environment\n",
    "train_env.docker.enabled = True\n",
    "\n",
    "# Specify docker base image from mcr\n",
    "train_env.docker.base_image = \"mcr.microsoft.com/azureml/intelmpi2018.3-ubuntu16.04:20201113.v1\"\n",
    "\n",
    "# Register the environment\n",
    "train_env.register(workspace=ws)"
   ]
  },
  {
   "cell_type": "code",
   "execution_count": 11,
   "metadata": {},
   "outputs": [
    {
     "data": {
      "text/plain": [
       "{\n",
       "    \"databricks\": {\n",
       "        \"eggLibraries\": [],\n",
       "        \"jarLibraries\": [],\n",
       "        \"mavenLibraries\": [],\n",
       "        \"pypiLibraries\": [],\n",
       "        \"rcranLibraries\": []\n",
       "    },\n",
       "    \"docker\": {\n",
       "        \"arguments\": [],\n",
       "        \"baseDockerfile\": null,\n",
       "        \"baseImage\": \"mcr.microsoft.com/azureml/intelmpi2018.3-ubuntu16.04:20201113.v1\",\n",
       "        \"baseImageRegistry\": {\n",
       "            \"address\": null,\n",
       "            \"password\": null,\n",
       "            \"registryIdentity\": null,\n",
       "            \"username\": null\n",
       "        },\n",
       "        \"enabled\": true,\n",
       "        \"platform\": {\n",
       "            \"architecture\": \"amd64\",\n",
       "            \"os\": \"Linux\"\n",
       "        },\n",
       "        \"sharedVolumes\": true,\n",
       "        \"shmSize\": null\n",
       "    },\n",
       "    \"environmentVariables\": {\n",
       "        \"EXAMPLE_ENV_VAR\": \"EXAMPLE_VALUE\"\n",
       "    },\n",
       "    \"inferencingStackVersion\": \"latest\",\n",
       "    \"name\": \"stanford-dogs-deploy-env\",\n",
       "    \"python\": {\n",
       "        \"baseCondaEnvironment\": null,\n",
       "        \"condaDependencies\": {\n",
       "            \"channels\": [\n",
       "                \"conda-forge\",\n",
       "                \"pytorch\"\n",
       "            ],\n",
       "            \"dependencies\": [\n",
       "                \"joblib=0.13.2\",\n",
       "                \"matplotlib=3.3.3\",\n",
       "                \"python=3.7.1\",\n",
       "                \"pytorch::pytorch=1.7.0\",\n",
       "                \"pytorch::torchvision=0.8.1\",\n",
       "                \"scipy=1.6.0\",\n",
       "                \"tqdm=4.38.0\",\n",
       "                {\n",
       "                    \"pip\": [\n",
       "                        \"azure-cli\",\n",
       "                        \"azureml-core==1.20.0\",\n",
       "                        \"azureml-defaults\",\n",
       "                        \"azureml-sdk\",\n",
       "                        \"azureml-widgets\",\n",
       "                        \"ipykernel\",\n",
       "                        \"python-dotenv==0.15.0\"\n",
       "                    ]\n",
       "                }\n",
       "            ],\n",
       "            \"name\": \"azureml_3a65fd49f096be6cbe5921e5dcc78936\"\n",
       "        },\n",
       "        \"condaDependenciesFile\": null,\n",
       "        \"interpreterPath\": \"python\",\n",
       "        \"userManagedDependencies\": false\n",
       "    },\n",
       "    \"r\": null,\n",
       "    \"spark\": {\n",
       "        \"packages\": [],\n",
       "        \"precachePackages\": true,\n",
       "        \"repositories\": []\n",
       "    },\n",
       "    \"version\": \"3\"\n",
       "}"
      ]
     },
     "execution_count": 11,
     "metadata": {},
     "output_type": "execute_result"
    }
   ],
   "source": [
    "# Create the AML deployment environment from conda deployment_environment.yml file\n",
    "deployment_env = Environment.from_conda_specification(name=\"stanford-dogs-deploy-env\",\n",
    "                                                      file_path=\"../environments/conda/deployment_environment.yml\")\n",
    "\n",
    "# Enable docker-based environment\n",
    "deployment_env.docker.enabled = True\n",
    "\n",
    "# Specify docker base image from mcr\n",
    "deployment_env.docker.base_image = \"mcr.microsoft.com/azureml/intelmpi2018.3-ubuntu16.04:20201113.v1\"\n",
    "\n",
    "# For an inferencing environment, the inferencing_stack_version has to be set to \"latest\"\n",
    "deployment_env.inferencing_stack_version = \"latest\"\n",
    "\n",
    "# Register the environment\n",
    "deployment_env.register(workspace=ws)"
   ]
  }
 ],
 "metadata": {
  "kernelspec": {
   "display_name": "stanford-dogs-dev-env",
   "language": "python",
   "name": "stanford-dogs-dev-env"
  },
  "language_info": {
   "codemirror_mode": {
    "name": "ipython",
    "version": 3
   },
   "file_extension": ".py",
   "mimetype": "text/x-python",
   "name": "python",
   "nbconvert_exporter": "python",
   "pygments_lexer": "ipython3",
   "version": "3.7.1"
  }
 },
 "nbformat": 4,
 "nbformat_minor": 4
}
