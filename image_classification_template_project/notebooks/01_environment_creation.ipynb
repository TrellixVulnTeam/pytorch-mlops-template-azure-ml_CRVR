{
 "cells": [
  {
   "cell_type": "markdown",
   "metadata": {},
   "source": [
    "# TABLE OF CONTENTS:\n",
    "---\n",
    "* [Conda Environments](#Conda-Environments)\n",
    "    * [Environment Artifacts](#Environment-Artifacts)\n",
    "    * [Development Environment Setup](#Development-Environment-Setup)\n",
    "    * [Environment Registration](#Environment-Registration)\n",
    "---"
   ]
  },
  {
   "cell_type": "markdown",
   "metadata": {},
   "source": [
    "This notebook should be run from the azureml_py36 kernel in the Azure Machine Learning (AML) Compute Instance or from any other kernel that has the azureml.core library installed so that the new environment can be saved to the workspace using the AML Python SDK. Subsequent notebooks should then be run from the newly created kernel."
   ]
  },
  {
   "cell_type": "code",
   "execution_count": 8,
   "metadata": {},
   "outputs": [],
   "source": [
    "import os\n",
    "\n",
    "from azureml.core import Environment, Workspace\n",
    "from azureml.core.authentication import MsiAuthentication"
   ]
  },
  {
   "cell_type": "markdown",
   "metadata": {},
   "source": [
    "# Conda Environments"
   ]
  },
  {
   "cell_type": "markdown",
   "metadata": {},
   "source": [
    "### Environment Artifacts"
   ]
  },
  {
   "cell_type": "markdown",
   "metadata": {},
   "source": [
    "Environment-related artifacts will sit in their own parent directory called **\"environments\"**. Conda .yml files will have an own directory within the environments directory called **\"conda\"**. These directories are created in the following cells if they do not exist yet."
   ]
  },
  {
   "cell_type": "code",
   "execution_count": 9,
   "metadata": {},
   "outputs": [
    {
     "name": "stdout",
     "output_type": "stream",
     "text": [
      "Environment directory /mnt/batch/tasks/shared/LS_root/mounts/clusters/sbirkamlci/code/pytorch-use-cases-azure-ml/image_classification_template_project/notebooks/../environments has been created.\n"
     ]
    }
   ],
   "source": [
    "environment_dir = os.path.join(os.getcwd(), \"../environments\")\n",
    "os.makedirs(environment_dir, exist_ok=True)\n",
    "print(f\"Environment directory {environment_dir} has been created.\")"
   ]
  },
  {
   "cell_type": "code",
   "execution_count": 10,
   "metadata": {},
   "outputs": [
    {
     "name": "stdout",
     "output_type": "stream",
     "text": [
      "Conda directory /mnt/batch/tasks/shared/LS_root/mounts/clusters/sbirkamlci/code/pytorch-use-cases-azure-ml/image_classification_template_project/notebooks/../environments/conda has been created.\n"
     ]
    }
   ],
   "source": [
    "conda_dir = os.path.join(os.getcwd(), \"../environments/conda\")\n",
    "os.makedirs(conda_dir, exist_ok=True)\n",
    "print(f\"Conda directory {conda_dir} has been created.\")"
   ]
  },
  {
   "cell_type": "markdown",
   "metadata": {},
   "source": [
    "Create an **environment.yml** file which contains all packages needed for a conda environment for development, training and deployment to ensure reproducibility and easy collaboration with other team members. This .yml file will be used to build an AML environment as well as a local development environment and jupyter kernel for your notebook experience. If the different stages (development, training and deployment) vary greatly, a separate conda environment file for each stage can be created. In that case they should be prefixed with their respective stage, e.g. **training_environment.yml**. Moreover, the environment names should also be prefixed with the respective stage, e.g. **training-pytorch-aml-env**. If any dependencies are added throughout the model development phase they should be added to this .yml file and the conda environment and kernel should be rebuilt. Packages should not be installed using \"pip install\" or \"conda install\" to ensure reproducibility is maintained.\n",
    "\n",
    "In general try to use conda with the default channels as a priority means to install Python packages. If conda tells you the package you want doesn't exist, then use pip (or try conda-forge and other well-known channels, which have more packages available than the default conda channel). Conda makes sure that the dependencies of all packages are fulfilled simultaneously, the lack of which often leads to broken environments when using pip."
   ]
  },
  {
   "cell_type": "code",
   "execution_count": 11,
   "metadata": {},
   "outputs": [
    {
     "name": "stdout",
     "output_type": "stream",
     "text": [
      "Overwriting ../environments/conda/environment.yml\n"
     ]
    }
   ],
   "source": [
    "%%writefile ../environments/conda/environment.yml\n",
    "name: pytorch-aml-env\n",
    "dependencies:\n",
    "- joblib=0.13.2\n",
    "- matplotlib=3.3.3\n",
    "- mlflow=1.13.1\n",
    "- python=3.7.1\n",
    "- pytorch::pytorch=1.7.0\n",
    "- pytorch::torchvision=0.8.1\n",
    "- scipy=1.6.0\n",
    "- tqdm=4.38.0\n",
    "- pip:\n",
    "    - azure-cli\n",
    "    - azureml-contrib-functions\n",
    "    - azureml-defaults\n",
    "    - azureml-sdk\n",
    "    - azureml-widgets\n",
    "    - ipykernel\n",
    "    - python-dotenv==0.15.0\n",
    "channels:\n",
    "- conda-forge\n",
    "- pytorch"
   ]
  },
  {
   "cell_type": "markdown",
   "metadata": {},
   "source": [
    "**Note:** azureml-contrib-functions is needed for deployment to Azure Functions."
   ]
  },
  {
   "cell_type": "markdown",
   "metadata": {},
   "source": [
    "If for any reasons you want to install packages just in your local development environment and not add them to the .yml file, then you should **not use \"pip install\" or \"conda install\"** from the notebook either. This will not ensure that the packages are installed in the conda environment of the kernel that you are currently running. Instead use the syntax from the following cells to make certain that the packages are installed in the conda environment of your currently running kernel. Only do this for testing of packages and do not forget to add packages you want to keep to the .yml file eventually."
   ]
  },
  {
   "cell_type": "code",
   "execution_count": 5,
   "metadata": {},
   "outputs": [],
   "source": [
    "# # Do this for pip packages\n",
    "# import sys\n",
    "# !{sys.executable} -m pip install matplotlib"
   ]
  },
  {
   "cell_type": "code",
   "execution_count": 6,
   "metadata": {},
   "outputs": [],
   "source": [
    "# # Do this for conda packages\n",
    "# import sys\n",
    "# !conda install --yes --prefix {sys.prefix} matplotlib"
   ]
  },
  {
   "cell_type": "markdown",
   "metadata": {},
   "source": [
    "### Development Environment Setup"
   ]
  },
  {
   "cell_type": "markdown",
   "metadata": {},
   "source": [
    "In order to create a local conda environment and jupyter kernel to develop with, execute the following steps in the terminal from the project root directory."
   ]
  },
  {
   "cell_type": "markdown",
   "metadata": {},
   "source": [
    "`conda env create -f environments/conda/environment.yml (--force)`\n",
    "\n",
    "`conda activate pytorch-aml-env`\n",
    "\n",
    "`python -m ipykernel install --user --name=pytorch-aml-env`"
   ]
  },
  {
   "cell_type": "markdown",
   "metadata": {},
   "source": [
    "The environment will then be available as a kernel in JupyterLab or Jupyter:\n",
    "\n",
    "<img src=\"../docs/images/kernel_selection.png\" alt=\"kernel_selection\" width=\"400\"/>"
   ]
  },
  {
   "cell_type": "markdown",
   "metadata": {},
   "source": [
    "In order to list the available environments, the following command can be used:"
   ]
  },
  {
   "cell_type": "markdown",
   "metadata": {},
   "source": [
    "`conda env list`"
   ]
  },
  {
   "cell_type": "markdown",
   "metadata": {},
   "source": [
    "In order to remove an environment and the corresponding jupyter kernel, the following commands can be used."
   ]
  },
  {
   "cell_type": "markdown",
   "metadata": {},
   "source": [
    "`jupyter kernelspec remove pytorch-aml-env` (run this from within the environment)\n",
    "\n",
    "`conda deactivate`\n",
    "\n",
    "`conda env remove -n pytorch-aml-env`"
   ]
  },
  {
   "cell_type": "markdown",
   "metadata": {},
   "source": [
    "### Environment Registration"
   ]
  },
  {
   "cell_type": "markdown",
   "metadata": {},
   "source": [
    "The environment is saved to the workspace from where it can be retrieved from another compute by another data scientist or for other purposes along the ml lifecycle (e.g. model training or model deployment)."
   ]
  },
  {
   "cell_type": "code",
   "execution_count": 7,
   "metadata": {},
   "outputs": [
    {
     "data": {
      "text/plain": [
       "{\n",
       "    \"databricks\": {\n",
       "        \"eggLibraries\": [],\n",
       "        \"jarLibraries\": [],\n",
       "        \"mavenLibraries\": [],\n",
       "        \"pypiLibraries\": [],\n",
       "        \"rcranLibraries\": []\n",
       "    },\n",
       "    \"docker\": {\n",
       "        \"arguments\": [],\n",
       "        \"baseDockerfile\": null,\n",
       "        \"baseImage\": \"mcr.microsoft.com/azureml/intelmpi2018.3-ubuntu16.04:20201113.v1\",\n",
       "        \"baseImageRegistry\": {\n",
       "            \"address\": null,\n",
       "            \"password\": null,\n",
       "            \"registryIdentity\": null,\n",
       "            \"username\": null\n",
       "        },\n",
       "        \"enabled\": true,\n",
       "        \"platform\": {\n",
       "            \"architecture\": \"amd64\",\n",
       "            \"os\": \"Linux\"\n",
       "        },\n",
       "        \"sharedVolumes\": true,\n",
       "        \"shmSize\": null\n",
       "    },\n",
       "    \"environmentVariables\": {\n",
       "        \"EXAMPLE_ENV_VAR\": \"EXAMPLE_VALUE\"\n",
       "    },\n",
       "    \"inferencingStackVersion\": \"latest\",\n",
       "    \"name\": \"pytorch-aml-env\",\n",
       "    \"python\": {\n",
       "        \"baseCondaEnvironment\": null,\n",
       "        \"condaDependencies\": {\n",
       "            \"channels\": [\n",
       "                \"conda-forge\",\n",
       "                \"pytorch\"\n",
       "            ],\n",
       "            \"dependencies\": [\n",
       "                \"matplotlib=3.3.3\",\n",
       "                \"mlflow=1.13.1\",\n",
       "                \"python=3.7.1\",\n",
       "                \"pytorch::pytorch=1.7.0\",\n",
       "                \"pytorch::torchvision=0.8.1\",\n",
       "                \"scipy=1.6.0\",\n",
       "                \"tqdm=4.38.0\",\n",
       "                {\n",
       "                    \"pip\": [\n",
       "                        \"azure-cli\",\n",
       "                        \"azureml-contrib-functions\",\n",
       "                        \"azureml-defaults\",\n",
       "                        \"azureml-sdk\",\n",
       "                        \"azureml-widgets\",\n",
       "                        \"ipykernel\",\n",
       "                        \"python-dotenv==0.15.0\"\n",
       "                    ]\n",
       "                }\n",
       "            ],\n",
       "            \"name\": \"azureml_6fbaaf797dfb760e2052930961d73e2a\"\n",
       "        },\n",
       "        \"condaDependenciesFile\": null,\n",
       "        \"interpreterPath\": \"python\",\n",
       "        \"userManagedDependencies\": false\n",
       "    },\n",
       "    \"r\": null,\n",
       "    \"spark\": {\n",
       "        \"packages\": [],\n",
       "        \"precachePackages\": true,\n",
       "        \"repositories\": []\n",
       "    },\n",
       "    \"version\": \"1\"\n",
       "}"
      ]
     },
     "execution_count": 7,
     "metadata": {},
     "output_type": "execute_result"
    }
   ],
   "source": [
    "# Connect to the AML workspace with interactive authentication.\n",
    "# For alternative connection options (e.g. for automated workloads) see the aml_snippets directory.\n",
    "ws = Workspace.from_config()\n",
    "\n",
    "# Create an environment from conda environment.yml file\n",
    "env = Environment.from_conda_specification(name=\"pytorch-aml-env\",\n",
    "                                           file_path=\"../environments/conda/environment.yml\")\n",
    "\n",
    "# Enable docker-based environment\n",
    "env.docker.enabled = True\n",
    "\n",
    "# Specify docker base image from mcr\n",
    "env.docker.base_image = \"mcr.microsoft.com/azureml/intelmpi2018.3-ubuntu16.04:20201113.v1\"\n",
    "\n",
    "# For an inferencing environment, the inferencing_stack_version has to be set to \"latest\"\n",
    "env.inferencing_stack_version = \"latest\"\n",
    "\n",
    "# Register the environment\n",
    "env.register(workspace=ws)"
   ]
  }
 ],
 "metadata": {
  "kernelspec": {
   "display_name": "Python 3.6 - AzureML",
   "language": "python",
   "name": "python3-azureml"
  },
  "language_info": {
   "codemirror_mode": {
    "name": "ipython",
    "version": 3
   },
   "file_extension": ".py",
   "mimetype": "text/x-python",
   "name": "python",
   "nbconvert_exporter": "python",
   "pygments_lexer": "ipython3",
   "version": "3.6.9"
  }
 },
 "nbformat": 4,
 "nbformat_minor": 4
}
