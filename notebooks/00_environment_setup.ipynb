{
 "cells": [
  {
   "cell_type": "markdown",
   "metadata": {},
   "source": [
    "# TABLE OF CONTENTS:\n",
    "---\n",
    "* [Notebook Summary](#Notebook-Summary)\n",
    "* [Setup](#Setup)\n",
    "    * [Notebook Parameters](#Notebook-Parameters)\n",
    "    * [Connect to Workspace](#Connect-to-Workspace)\n",
    "* [Conda Environments](#Conda-Environments)\n",
    "    * [Environment Artifacts](#Environment-Artifacts)\n",
    "        * [Development Environment (1)](#Development-Environment-(1))\n",
    "        * [Training Environment (2)](#Training-Environment-(2))\n",
    "        * [Deployment Environment (3)](#Deployment-Environment-(3))\n",
    "    * [Development Environment Setup](#Development-Environment-Setup)\n",
    "    * [AML Environment Registration](#AML-Environment-Registration)\n",
    "---"
   ]
  },
  {
   "cell_type": "markdown",
   "metadata": {},
   "source": [
    "# Notebook Summary"
   ]
  },
  {
   "cell_type": "markdown",
   "metadata": {},
   "source": [
    "This notebook contains instructions on how to create a local conda development environment as well as a Jupyter kernel based on this local conda environment. The conda development environment can be used for IDE-based development with the Azure Machine Learning (AML) Compute Instance (CI), e.g. with VSCode. The Jupyter kernel can be used for development on the AML CI using JupyterLab, Jupyter or AML notebooks. \n",
    "\n",
    "This notebook will also show how to create AML environments for development (1), training (2) and deployment (3) respectively. These AML environments are environments that are registered to the AML workspace and can be shared by Data Scientists across different compute targets. This will ensure easy reproducability of environments. It is recommended to create separate environments for development (1), and training (2) and deployment (3) because not all dependencies will be needed in every stage of the ML lifecycle and the less dependencies we have, the less error-prone the environment is (e.g. visualization libraries might only be necessary during the development phase and metric tracking libraries might only be necessary during the training phase; also we want to have the deployment environment as lightweight as possible).\n",
    "\n",
    "**Note**: This notebook should be run from the azureml_py38 Jupyter kernel in the AML CI (it is available by default) or from any other Jupyter kernel that has the azureml.core library installed so that the new environments can be registered to the AML workspace using the AML Python SDK. Subsequent notebooks should then be run from the newly created Jupyter kernel (that is based on your local conda development environment) and therefore contain all packages needed for development."
   ]
  },
  {
   "cell_type": "markdown",
   "metadata": {},
   "source": [
    "# Setup"
   ]
  },
  {
   "cell_type": "code",
   "execution_count": 1,
   "metadata": {},
   "outputs": [
    {
     "name": "stdout",
     "output_type": "stream",
     "text": [
      "azureml.core Version: 1.30.0\n"
     ]
    }
   ],
   "source": [
    "# Import libraries\n",
    "import azureml.core\n",
    "import os\n",
    "from azureml.core import Environment, Workspace\n",
    "\n",
    "print(f\"azureml.core Version: {azureml.core.__version__}\")"
   ]
  },
  {
   "cell_type": "markdown",
   "metadata": {},
   "source": [
    "### Notebook Parameters"
   ]
  },
  {
   "cell_type": "markdown",
   "metadata": {},
   "source": [
    "Specify the notebook parameters which are used in the source code below."
   ]
  },
  {
   "cell_type": "code",
   "execution_count": 2,
   "metadata": {},
   "outputs": [],
   "source": [
    "# Specify the AML development environment name (1)\n",
    "# (this will be the name with which the dev environment is registered to the AML workspace)\n",
    "dev_env_name = \"dogs_clf_dev_env\"\n",
    "\n",
    "# Specify the AML training environment name (2)\n",
    "# (this will be the name with which the train environment is registered to the AML workspace)\n",
    "train_env_name = \"dogs_clf_train_env\"\n",
    "\n",
    "# Specify the AML deployment environment name (3)\n",
    "# (this will be the name with which the deploy environment is registered to the AML workspace)\n",
    "deploy_env_name = \"dogs_clf_deploy_env\"\n",
    "\n",
    "# Specify the base docker image that will underlie all 3 environments\n",
    "base_docker_image = \"mcr.microsoft.com/azureml/intelmpi2018.3-ubuntu16.04:20201113.v1\""
   ]
  },
  {
   "cell_type": "markdown",
   "metadata": {},
   "source": [
    "Next to the notebook parameters, the conda .yml files further down the notebook will have to be modified to reflect all required dependencies."
   ]
  },
  {
   "cell_type": "markdown",
   "metadata": {},
   "source": [
    "### Connect to Workspace"
   ]
  },
  {
   "cell_type": "markdown",
   "metadata": {},
   "source": [
    "In order to connect and communicate with the AML workspace, a workspace object needs to be instantiated using the AML Python SDK."
   ]
  },
  {
   "cell_type": "code",
   "execution_count": 3,
   "metadata": {},
   "outputs": [],
   "source": [
    "# Connect to the AML workspace using interactive authentication\n",
    "ws = Workspace.from_config()"
   ]
  },
  {
   "cell_type": "markdown",
   "metadata": {},
   "source": [
    "**Note:** From the AML CI, above command works without any additional steps. See `https://docs.microsoft.com/en-us/azure/machine-learning/how-to-manage-workspace?tabs=azure-portal#download-a-configuration-file` for more information on how to download the config.json to another compute target."
   ]
  },
  {
   "cell_type": "markdown",
   "metadata": {},
   "source": [
    "# Conda Environments"
   ]
  },
  {
   "cell_type": "markdown",
   "metadata": {},
   "source": [
    "### Environment Artifacts"
   ]
  },
  {
   "cell_type": "markdown",
   "metadata": {},
   "source": [
    "To ensure reproducability and to facilitate collaboration, conda .yml files will be created for each environment. It is important that, when new packages are needed, they will be added to these .yml files.\n",
    "\n",
    "Environment-related artifacts will sit in their own parent directory `<PROJECT_ROOT>/environments`. Conda .yml files will have an own directory within the environments directory `(<PROJECT_ROOT>/environments/conda)`.\n",
    "\n",
    "In general, it is a recommendation to use conda with the default channels as a priority means to install Python packages. If conda tells you the package you want doesn't exist, then use pip (or try conda-forge and other well-known channels, which have more packages available than the default conda channel). Conda makes sure that the dependencies of all packages are fulfilled simultaneously, the lack of which often leads to broken environments when using pip for the installation of packages."
   ]
  },
  {
   "cell_type": "markdown",
   "metadata": {},
   "source": [
    "#### Development Environment (1)"
   ]
  },
  {
   "cell_type": "markdown",
   "metadata": {},
   "source": [
    "Create a **development_environment.yml** file which contains all packages needed for a conda environment for development. This .yml file will be used to build an AML environment as well as a local development environment and Jupyter kernel for notebook development.\n",
    "\n",
    "If any dependencies are added throughout the model development phase they should be added to this .yml file and the conda environment and Jupyter kernel should be rebuilt. Packages should not be installed using \"pip install\" or \"conda install\" directly to ensure reproducability is maintained and all packages are tracked in the .yml file.\n",
    "\n",
    "If for any reasons you still want to install packages just in your local development environment and not add them to the .yml file, then you should **not use \"pip install\" or \"conda install\"** from the notebook either. This will not ensure that the packages are installed in the conda environment of the Jupyter kernel that you are currently running. Instead use the syntax from the following cells to make certain that the packages are installed in the conda environment of your currently running kernel (or open the terminal, activate the conda environment and pip install / conda install your packages from there). Only do this for testing of packages and do not forget to add packages you want to keep to the .yml file eventually."
   ]
  },
  {
   "cell_type": "code",
   "execution_count": 4,
   "metadata": {},
   "outputs": [],
   "source": [
    "# # Do this for pip packages\n",
    "# import sys\n",
    "# !{sys.executable} -m pip install matplotlib"
   ]
  },
  {
   "cell_type": "code",
   "execution_count": 5,
   "metadata": {},
   "outputs": [],
   "source": [
    "# # Do this for conda packages\n",
    "# import sys\n",
    "# !conda install --yes --prefix {sys.prefix} matplotlib"
   ]
  },
  {
   "cell_type": "code",
   "execution_count": 6,
   "metadata": {},
   "outputs": [
    {
     "name": "stdout",
     "output_type": "stream",
     "text": [
      "Overwriting ../environments/conda/development_environment.yml\n"
     ]
    }
   ],
   "source": [
    "%%writefile ../environments/conda/development_environment.yml\n",
    "name: dogs_clf_dev_env\n",
    "channels:\n",
    "- conda-forge\n",
    "- pytorch    \n",
    "dependencies:\n",
    "- joblib=0.13.2\n",
    "- matplotlib=3.3.3\n",
    "- pip=21.0.1\n",
    "- pytest=6.2.2\n",
    "- python=3.7.1\n",
    "- python-dotenv=0.8.2\n",
    "- pytorch::pytorch=1.7.0\n",
    "- pytorch::torchvision=0.8.1\n",
    "- scipy=1.6.0\n",
    "- tqdm=4.38.0\n",
    "- pip:\n",
    "    - azure-cli==2.3.1\n",
    "    - azure-cognitiveservices-vision-customvision==3.1.0\n",
    "    - azureml-core==1.20.0\n",
    "    - azureml-defaults\n",
    "    - azureml-sdk\n",
    "    - azureml-widgets\n",
    "    - ipykernel==5.5.5"
   ]
  },
  {
   "cell_type": "markdown",
   "metadata": {},
   "source": [
    "#### Training Environment (2)"
   ]
  },
  {
   "cell_type": "markdown",
   "metadata": {},
   "source": [
    "Also create .yml files for training and deployment. Each file is prefixed with their respective stage, i.e. **training_environment.yml** and **deployment_environment.yml**. Moreover, the environment names are also labeled according to the respective stage, namely **dogs_clf_train_env** and **dogs_clf_deploy_env**. "
   ]
  },
  {
   "cell_type": "code",
   "execution_count": 7,
   "metadata": {},
   "outputs": [
    {
     "name": "stdout",
     "output_type": "stream",
     "text": [
      "Overwriting ../environments/conda/training_environment.yml\n"
     ]
    }
   ],
   "source": [
    "%%writefile ../environments/conda/training_environment.yml\n",
    "name: dogs_clf_train_env\n",
    "channels:\n",
    "- conda-forge\n",
    "- pytorch\n",
    "dependencies:\n",
    "- joblib=0.13.2\n",
    "- matplotlib=3.3.3\n",
    "- pip=21.0.1\n",
    "- python=3.7.1\n",
    "- python-dotenv=0.8.2\n",
    "- pytorch::pytorch=1.7.0\n",
    "- pytorch::torchvision=0.8.1\n",
    "- scipy=1.6.0\n",
    "- tqdm=4.38.0\n",
    "- pip:\n",
    "    - azure-cli==2.3.1\n",
    "    - azureml-core==1.20.0\n",
    "    - azureml-defaults\n",
    "    - azureml-sdk\n",
    "    - azureml-widgets"
   ]
  },
  {
   "cell_type": "markdown",
   "metadata": {},
   "source": [
    "#### Deployment Environment (3)"
   ]
  },
  {
   "cell_type": "code",
   "execution_count": 8,
   "metadata": {},
   "outputs": [
    {
     "name": "stdout",
     "output_type": "stream",
     "text": [
      "Overwriting ../environments/conda/deployment_environment.yml\n"
     ]
    }
   ],
   "source": [
    "%%writefile ../environments/conda/deployment_environment.yml\n",
    "name: dogs_clf_deploy_env\n",
    "channels:\n",
    "- conda-forge\n",
    "- pytorch\n",
    "dependencies:\n",
    "- joblib=0.13.2\n",
    "- pip=21.0.1\n",
    "- python=3.7.1\n",
    "- pytorch::pytorch=1.7.0\n",
    "- pytorch::torchvision=0.8.1\n",
    "- scipy=1.6.0\n",
    "- pip:\n",
    "    - azure-cli==2.3.1\n",
    "    - azureml-core==1.20.0\n",
    "    - azureml-defaults\n",
    "    - azureml-sdk\n",
    "    - azureml-widgets"
   ]
  },
  {
   "cell_type": "markdown",
   "metadata": {},
   "source": [
    "### Development Environment Setup"
   ]
  },
  {
   "cell_type": "markdown",
   "metadata": {},
   "source": [
    "In order to create a local conda development environment and Jupyter kernel to develop with, execute the following steps in the terminal from the project root directory."
   ]
  },
  {
   "cell_type": "markdown",
   "metadata": {},
   "source": [
    "`conda env create -f environments/conda/development_environment.yml --force`\n",
    "\n",
    "`conda activate dogs_clf_dev_env`\n",
    "\n",
    "`python -m ipykernel install --user --name=dogs_clf_dev_env`\n",
    "\n",
    "**Note**: You might have to run `conda init bash` first and restart the terminal."
   ]
  },
  {
   "cell_type": "markdown",
   "metadata": {},
   "source": [
    "The environment will then be available as a kernel in JupyterLab or Jupyter:\n",
    "\n",
    "<img src=\"../docs/images/kernel_selection.png\" alt=\"kernel_selection\" width=\"400\"/>"
   ]
  },
  {
   "cell_type": "markdown",
   "metadata": {},
   "source": [
    "In order to list the available environments, the following command can be used:"
   ]
  },
  {
   "cell_type": "markdown",
   "metadata": {},
   "source": [
    "`conda env list`"
   ]
  },
  {
   "cell_type": "markdown",
   "metadata": {},
   "source": [
    "In order to remove an environment and the corresponding Jupyter kernel, the following commands can be used."
   ]
  },
  {
   "cell_type": "markdown",
   "metadata": {},
   "source": [
    "`jupyter kernelspec remove dogs_clf_dev_env` (run this from within the environment)\n",
    "\n",
    "`conda deactivate`\n",
    "\n",
    "`conda env remove -n dogs_clf_dev_env`"
   ]
  },
  {
   "cell_type": "markdown",
   "metadata": {},
   "source": [
    "### AML Environment Registration"
   ]
  },
  {
   "cell_type": "markdown",
   "metadata": {},
   "source": [
    "The environments are saved to the AML workspace from where they can be retrieved and used from another compute target and/or by another Data Scientist during all phases along the ML lifecycle."
   ]
  },
  {
   "cell_type": "code",
   "execution_count": 9,
   "metadata": {},
   "outputs": [
    {
     "data": {
      "text/plain": [
       "{\n",
       "    \"databricks\": {\n",
       "        \"eggLibraries\": [],\n",
       "        \"jarLibraries\": [],\n",
       "        \"mavenLibraries\": [],\n",
       "        \"pypiLibraries\": [],\n",
       "        \"rcranLibraries\": []\n",
       "    },\n",
       "    \"docker\": {\n",
       "        \"arguments\": [],\n",
       "        \"baseDockerfile\": null,\n",
       "        \"baseImage\": \"mcr.microsoft.com/azureml/intelmpi2018.3-ubuntu16.04:20201113.v1\",\n",
       "        \"baseImageRegistry\": {\n",
       "            \"address\": null,\n",
       "            \"password\": null,\n",
       "            \"registryIdentity\": null,\n",
       "            \"username\": null\n",
       "        },\n",
       "        \"enabled\": false,\n",
       "        \"platform\": {\n",
       "            \"architecture\": \"amd64\",\n",
       "            \"os\": \"Linux\"\n",
       "        },\n",
       "        \"sharedVolumes\": true,\n",
       "        \"shmSize\": null\n",
       "    },\n",
       "    \"environmentVariables\": {\n",
       "        \"EXAMPLE_ENV_VAR\": \"EXAMPLE_VALUE\"\n",
       "    },\n",
       "    \"inferencingStackVersion\": null,\n",
       "    \"name\": \"dogs_clf_dev_env\",\n",
       "    \"python\": {\n",
       "        \"baseCondaEnvironment\": null,\n",
       "        \"condaDependencies\": {\n",
       "            \"channels\": [\n",
       "                \"conda-forge\",\n",
       "                \"pytorch\"\n",
       "            ],\n",
       "            \"dependencies\": [\n",
       "                \"joblib=0.13.2\",\n",
       "                \"matplotlib=3.3.3\",\n",
       "                \"pip=21.0.1\",\n",
       "                \"pytest=6.2.2\",\n",
       "                \"python=3.7.1\",\n",
       "                \"python-dotenv=0.8.2\",\n",
       "                \"pytorch::pytorch=1.7.0\",\n",
       "                \"pytorch::torchvision=0.8.1\",\n",
       "                \"scipy=1.6.0\",\n",
       "                \"tqdm=4.38.0\",\n",
       "                {\n",
       "                    \"pip\": [\n",
       "                        \"azure-cli==2.3.1\",\n",
       "                        \"azure-cognitiveservices-vision-customvision==3.1.0\",\n",
       "                        \"azureml-core==1.20.0\",\n",
       "                        \"azureml-defaults\",\n",
       "                        \"azureml-sdk\",\n",
       "                        \"azureml-widgets\",\n",
       "                        \"ipykernel==5.5.5\"\n",
       "                    ]\n",
       "                }\n",
       "            ],\n",
       "            \"name\": \"azureml_93f9573d3d0e0a95dbf94518945494b5\"\n",
       "        },\n",
       "        \"condaDependenciesFile\": null,\n",
       "        \"interpreterPath\": \"python\",\n",
       "        \"userManagedDependencies\": false\n",
       "    },\n",
       "    \"r\": null,\n",
       "    \"spark\": {\n",
       "        \"packages\": [],\n",
       "        \"precachePackages\": true,\n",
       "        \"repositories\": []\n",
       "    },\n",
       "    \"version\": \"1\"\n",
       "}"
      ]
     },
     "execution_count": 9,
     "metadata": {},
     "output_type": "execute_result"
    }
   ],
   "source": [
    "# Create the AML development environment from conda development_environment.yml file\n",
    "dev_env = Environment.from_conda_specification(name=dev_env_name,\n",
    "                                               file_path=\"../environments/conda/development_environment.yml\")\n",
    "\n",
    "# Specify docker base image from mcr\n",
    "dev_env.docker.base_image = base_docker_image\n",
    "\n",
    "# Register the environment\n",
    "dev_env.register(workspace=ws)"
   ]
  },
  {
   "cell_type": "code",
   "execution_count": 10,
   "metadata": {},
   "outputs": [
    {
     "data": {
      "text/plain": [
       "{\n",
       "    \"databricks\": {\n",
       "        \"eggLibraries\": [],\n",
       "        \"jarLibraries\": [],\n",
       "        \"mavenLibraries\": [],\n",
       "        \"pypiLibraries\": [],\n",
       "        \"rcranLibraries\": []\n",
       "    },\n",
       "    \"docker\": {\n",
       "        \"arguments\": [],\n",
       "        \"baseDockerfile\": null,\n",
       "        \"baseImage\": \"mcr.microsoft.com/azureml/intelmpi2018.3-ubuntu16.04:20201113.v1\",\n",
       "        \"baseImageRegistry\": {\n",
       "            \"address\": null,\n",
       "            \"password\": null,\n",
       "            \"registryIdentity\": null,\n",
       "            \"username\": null\n",
       "        },\n",
       "        \"enabled\": false,\n",
       "        \"platform\": {\n",
       "            \"architecture\": \"amd64\",\n",
       "            \"os\": \"Linux\"\n",
       "        },\n",
       "        \"sharedVolumes\": true,\n",
       "        \"shmSize\": null\n",
       "    },\n",
       "    \"environmentVariables\": {\n",
       "        \"EXAMPLE_ENV_VAR\": \"EXAMPLE_VALUE\"\n",
       "    },\n",
       "    \"inferencingStackVersion\": null,\n",
       "    \"name\": \"dogs_clf_train_env\",\n",
       "    \"python\": {\n",
       "        \"baseCondaEnvironment\": null,\n",
       "        \"condaDependencies\": {\n",
       "            \"channels\": [\n",
       "                \"conda-forge\",\n",
       "                \"pytorch\"\n",
       "            ],\n",
       "            \"dependencies\": [\n",
       "                \"joblib=0.13.2\",\n",
       "                \"matplotlib=3.3.3\",\n",
       "                \"pip=21.0.1\",\n",
       "                \"python=3.7.1\",\n",
       "                \"python-dotenv=0.8.2\",\n",
       "                \"pytorch::pytorch=1.7.0\",\n",
       "                \"pytorch::torchvision=0.8.1\",\n",
       "                \"scipy=1.6.0\",\n",
       "                \"tqdm=4.38.0\",\n",
       "                {\n",
       "                    \"pip\": [\n",
       "                        \"azure-cli==2.3.1\",\n",
       "                        \"azureml-core==1.20.0\",\n",
       "                        \"azureml-defaults\",\n",
       "                        \"azureml-sdk\",\n",
       "                        \"azureml-widgets\"\n",
       "                    ]\n",
       "                }\n",
       "            ],\n",
       "            \"name\": \"azureml_7e4004f9dc5d19006a729afa49674785\"\n",
       "        },\n",
       "        \"condaDependenciesFile\": null,\n",
       "        \"interpreterPath\": \"python\",\n",
       "        \"userManagedDependencies\": false\n",
       "    },\n",
       "    \"r\": null,\n",
       "    \"spark\": {\n",
       "        \"packages\": [],\n",
       "        \"precachePackages\": true,\n",
       "        \"repositories\": []\n",
       "    },\n",
       "    \"version\": \"1\"\n",
       "}"
      ]
     },
     "execution_count": 10,
     "metadata": {},
     "output_type": "execute_result"
    }
   ],
   "source": [
    "# Create the AML training environment from conda training_environment.yml file\n",
    "train_env = Environment.from_conda_specification(name=train_env_name,\n",
    "                                                 file_path=\"../environments/conda/training_environment.yml\")\n",
    "\n",
    "\n",
    "# Specify docker base image from mcr\n",
    "train_env.docker.base_image = base_docker_image\n",
    "\n",
    "# Register the environment\n",
    "train_env.register(workspace=ws)"
   ]
  },
  {
   "cell_type": "code",
   "execution_count": 11,
   "metadata": {},
   "outputs": [
    {
     "data": {
      "text/plain": [
       "{\n",
       "    \"databricks\": {\n",
       "        \"eggLibraries\": [],\n",
       "        \"jarLibraries\": [],\n",
       "        \"mavenLibraries\": [],\n",
       "        \"pypiLibraries\": [],\n",
       "        \"rcranLibraries\": []\n",
       "    },\n",
       "    \"docker\": {\n",
       "        \"arguments\": [],\n",
       "        \"baseDockerfile\": null,\n",
       "        \"baseImage\": \"mcr.microsoft.com/azureml/intelmpi2018.3-ubuntu16.04:20201113.v1\",\n",
       "        \"baseImageRegistry\": {\n",
       "            \"address\": null,\n",
       "            \"password\": null,\n",
       "            \"registryIdentity\": null,\n",
       "            \"username\": null\n",
       "        },\n",
       "        \"enabled\": false,\n",
       "        \"platform\": {\n",
       "            \"architecture\": \"amd64\",\n",
       "            \"os\": \"Linux\"\n",
       "        },\n",
       "        \"sharedVolumes\": true,\n",
       "        \"shmSize\": null\n",
       "    },\n",
       "    \"environmentVariables\": {\n",
       "        \"EXAMPLE_ENV_VAR\": \"EXAMPLE_VALUE\"\n",
       "    },\n",
       "    \"inferencingStackVersion\": \"latest\",\n",
       "    \"name\": \"dogs_clf_deploy_env\",\n",
       "    \"python\": {\n",
       "        \"baseCondaEnvironment\": null,\n",
       "        \"condaDependencies\": {\n",
       "            \"channels\": [\n",
       "                \"conda-forge\",\n",
       "                \"pytorch\"\n",
       "            ],\n",
       "            \"dependencies\": [\n",
       "                \"joblib=0.13.2\",\n",
       "                \"pip=21.0.1\",\n",
       "                \"python=3.7.1\",\n",
       "                \"pytorch::pytorch=1.7.0\",\n",
       "                \"pytorch::torchvision=0.8.1\",\n",
       "                \"scipy=1.6.0\",\n",
       "                {\n",
       "                    \"pip\": [\n",
       "                        \"azure-cli==2.3.1\",\n",
       "                        \"azureml-core==1.20.0\",\n",
       "                        \"azureml-defaults\",\n",
       "                        \"azureml-sdk\",\n",
       "                        \"azureml-widgets\"\n",
       "                    ]\n",
       "                }\n",
       "            ],\n",
       "            \"name\": \"azureml_b090681661c04b45aeaa579d18649daf\"\n",
       "        },\n",
       "        \"condaDependenciesFile\": null,\n",
       "        \"interpreterPath\": \"python\",\n",
       "        \"userManagedDependencies\": false\n",
       "    },\n",
       "    \"r\": null,\n",
       "    \"spark\": {\n",
       "        \"packages\": [],\n",
       "        \"precachePackages\": true,\n",
       "        \"repositories\": []\n",
       "    },\n",
       "    \"version\": \"1\"\n",
       "}"
      ]
     },
     "execution_count": 11,
     "metadata": {},
     "output_type": "execute_result"
    }
   ],
   "source": [
    "# Create the AML deployment environment from conda deployment_environment.yml file\n",
    "deploy_env = Environment.from_conda_specification(name=deploy_env_name,\n",
    "                                                      file_path=\"../environments/conda/deployment_environment.yml\")\n",
    "\n",
    "# Specify docker base image from mcr\n",
    "deploy_env.docker.base_image = base_docker_image\n",
    "\n",
    "# For an inferencing environment, the inferencing_stack_version has to be set to \"latest\"\n",
    "deploy_env.inferencing_stack_version = \"latest\"\n",
    "\n",
    "# Register the environment\n",
    "deploy_env.register(workspace=ws)"
   ]
  },
  {
   "cell_type": "markdown",
   "metadata": {},
   "source": [
    "Now you should be able to see your registered AML environments in the AML workspace:\n",
    "    \n",
    "<img src=\"../docs/images/aml_environments.png\" alt=\"aml_environments\" width=\"800\"/>   "
   ]
  }
 ],
 "metadata": {
  "kernelspec": {
   "display_name": "Python 3.8 - AzureML",
   "language": "python",
   "name": "python38-azureml"
  },
  "language_info": {
   "codemirror_mode": {
    "name": "ipython",
    "version": 3
   },
   "file_extension": ".py",
   "mimetype": "text/x-python",
   "name": "python",
   "nbconvert_exporter": "python",
   "pygments_lexer": "ipython3",
   "version": "3.8.1"
  }
 },
 "nbformat": 4,
 "nbformat_minor": 4
}
